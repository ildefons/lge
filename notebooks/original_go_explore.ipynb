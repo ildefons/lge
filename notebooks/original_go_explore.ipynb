{
 "cells": [
  {
   "cell_type": "markdown",
   "metadata": {},
   "source": [
    "# Original implementation of Go-Explore"
   ]
  },
  {
   "cell_type": "markdown",
   "metadata": {},
   "source": [
    "## Initialization"
   ]
  },
  {
   "cell_type": "markdown",
   "metadata": {},
   "source": [
    "Create environment."
   ]
  },
  {
   "cell_type": "code",
   "execution_count": 1,
   "metadata": {},
   "outputs": [
    {
     "name": "stderr",
     "output_type": "stream",
     "text": [
      "/home/qgallouedec/go-explore/env/lib/python3.8/site-packages/gym/envs/registration.py:518: UserWarning: \u001b[33mWARN: The environment PrivateEye-v4 is out of date. You should consider upgrading to version `v5` with the environment ID `ALE/PrivateEye-v5`.\u001b[0m\n",
      "  logger.warn(\n",
      "A.L.E: Arcade Learning Environment (version 0.7.4+069f8bd)\n",
      "[Powered by Stella]\n",
      "/home/qgallouedec/go-explore/env/lib/python3.8/site-packages/gym/utils/seeding.py:138: DeprecationWarning: \u001b[33mWARN: Function `hash_seed(seed, max_bytes)` is marked as deprecated and will be removed in the future. \u001b[0m\n",
      "  deprecation(\n",
      "/home/qgallouedec/go-explore/env/lib/python3.8/site-packages/gym/utils/seeding.py:175: DeprecationWarning: \u001b[33mWARN: Function `_bigint_from_bytes(bytes)` is marked as deprecated and will be removed in the future. \u001b[0m\n",
      "  deprecation(\n"
     ]
    }
   ],
   "source": [
    "import gym\n",
    "\n",
    "env = gym.make(\"PrivateEye-v4\")"
   ]
  },
  {
   "cell_type": "markdown",
   "metadata": {},
   "source": [
    "Instanciate the Go-Explore class."
   ]
  },
  {
   "cell_type": "code",
   "execution_count": 6,
   "metadata": {},
   "outputs": [
    {
     "name": "stdout",
     "output_type": "stream",
     "text": [
      "Using cuda device\n",
      "Wrapping the env in a VecTransposeImage.\n"
     ]
    }
   ],
   "source": [
    "from go_explore import GoExploreOriginal\n",
    "from stable_baselines3 import DQN\n",
    "\n",
    "# decrease the buffer size, otherwize the model is too large\n",
    "model_kwargs = dict(buffer_size=100_000)\n",
    "\n",
    "model = GoExploreOriginal(DQN, env, model_kwargs=model_kwargs, verbose=1)\n"
   ]
  },
  {
   "cell_type": "markdown",
   "metadata": {},
   "source": [
    "## Test Go-Explore"
   ]
  },
  {
   "cell_type": "code",
   "execution_count": 8,
   "metadata": {},
   "outputs": [
    {
     "ename": "KeyboardInterrupt",
     "evalue": "",
     "output_type": "error",
     "traceback": [
      "\u001b[0;31m---------------------------------------------------------------------------\u001b[0m",
      "\u001b[0;31mKeyboardInterrupt\u001b[0m                         Traceback (most recent call last)",
      "\u001b[1;32m/home/qgallouedec/go-explore/notebooks/original_go_explore.ipynb Cell 8'\u001b[0m in \u001b[0;36m<cell line: 1>\u001b[0;34m()\u001b[0m\n\u001b[0;32m----> <a href='vscode-notebook-cell:/home/qgallouedec/go-explore/notebooks/original_go_explore.ipynb#ch0000011?line=0'>1</a>\u001b[0m model\u001b[39m.\u001b[39;49mexplore(\u001b[39m10000\u001b[39;49m)\n",
      "File \u001b[0;32m~/go-explore/go_explore/go_explore.py:259\u001b[0m, in \u001b[0;36mGoExploreOriginal.explore\u001b[0;34m(self, total_timesteps, update_cell_factory_freq, reset_num_timesteps)\u001b[0m\n\u001b[1;32m    <a href='file:///home/qgallouedec/go-explore/go_explore/go_explore.py?line=250'>251</a>\u001b[0m \u001b[39m\"\"\"\u001b[39;00m\n\u001b[1;32m    <a href='file:///home/qgallouedec/go-explore/go_explore/go_explore.py?line=251'>252</a>\u001b[0m \u001b[39mRun exploration.\u001b[39;00m\n\u001b[1;32m    <a href='file:///home/qgallouedec/go-explore/go_explore/go_explore.py?line=252'>253</a>\u001b[0m \n\u001b[0;32m   (...)\u001b[0m\n\u001b[1;32m    <a href='file:///home/qgallouedec/go-explore/go_explore/go_explore.py?line=255'>256</a>\u001b[0m \u001b[39m:param reset_num_timesteps: Whether or not to reset the current timestep number (used in logging), defaults to False\u001b[39;00m\n\u001b[1;32m    <a href='file:///home/qgallouedec/go-explore/go_explore/go_explore.py?line=256'>257</a>\u001b[0m \u001b[39m\"\"\"\u001b[39;00m\n\u001b[1;32m    <a href='file:///home/qgallouedec/go-explore/go_explore/go_explore.py?line=257'>258</a>\u001b[0m cell_factory_updater \u001b[39m=\u001b[39m CallEveryNTimesteps(\u001b[39mself\u001b[39m\u001b[39m.\u001b[39m_update_cell_factory_param, update_cell_factory_freq)\n\u001b[0;32m--> <a href='file:///home/qgallouedec/go-explore/go_explore/go_explore.py?line=258'>259</a>\u001b[0m \u001b[39msuper\u001b[39;49m()\u001b[39m.\u001b[39;49mexplore(total_timesteps, callback\u001b[39m=\u001b[39;49mcell_factory_updater, reset_num_timesteps\u001b[39m=\u001b[39;49mreset_num_timesteps)\n",
      "File \u001b[0;32m~/go-explore/go_explore/go_explore.py:213\u001b[0m, in \u001b[0;36mBaseGoExplore.explore\u001b[0;34m(self, total_timesteps, callback, reset_num_timesteps)\u001b[0m\n\u001b[1;32m    <a href='file:///home/qgallouedec/go-explore/go_explore/go_explore.py?line=204'>205</a>\u001b[0m \u001b[39mdef\u001b[39;00m \u001b[39mexplore\u001b[39m(\u001b[39mself\u001b[39m, total_timesteps: \u001b[39mint\u001b[39m, callback: MaybeCallback \u001b[39m=\u001b[39m \u001b[39mNone\u001b[39;00m, reset_num_timesteps: \u001b[39mbool\u001b[39m \u001b[39m=\u001b[39m \u001b[39mFalse\u001b[39;00m) \u001b[39m-\u001b[39m\u001b[39m>\u001b[39m \u001b[39mNone\u001b[39;00m:\n\u001b[1;32m    <a href='file:///home/qgallouedec/go-explore/go_explore/go_explore.py?line=205'>206</a>\u001b[0m     \u001b[39m\"\"\"\u001b[39;00m\n\u001b[1;32m    <a href='file:///home/qgallouedec/go-explore/go_explore/go_explore.py?line=206'>207</a>\u001b[0m \u001b[39m    Run exploration.\u001b[39;00m\n\u001b[1;32m    <a href='file:///home/qgallouedec/go-explore/go_explore/go_explore.py?line=207'>208</a>\u001b[0m \n\u001b[0;32m   (...)\u001b[0m\n\u001b[1;32m    <a href='file:///home/qgallouedec/go-explore/go_explore/go_explore.py?line=210'>211</a>\u001b[0m \u001b[39m    :param reset_num_timesteps: Whether or not to reset the current timestep number (used in logging), defaults to False\u001b[39;00m\n\u001b[1;32m    <a href='file:///home/qgallouedec/go-explore/go_explore/go_explore.py?line=211'>212</a>\u001b[0m \u001b[39m    \"\"\"\u001b[39;00m\n\u001b[0;32m--> <a href='file:///home/qgallouedec/go-explore/go_explore/go_explore.py?line=212'>213</a>\u001b[0m     \u001b[39mself\u001b[39;49m\u001b[39m.\u001b[39;49mmodel\u001b[39m.\u001b[39;49mlearn(total_timesteps, callback\u001b[39m=\u001b[39;49mcallback, reset_num_timesteps\u001b[39m=\u001b[39;49mreset_num_timesteps)\n",
      "File \u001b[0;32m~/go-explore/env/lib/python3.8/site-packages/stable_baselines3/dqn/dqn.py:258\u001b[0m, in \u001b[0;36mDQN.learn\u001b[0;34m(self, total_timesteps, callback, log_interval, eval_env, eval_freq, n_eval_episodes, tb_log_name, eval_log_path, reset_num_timesteps)\u001b[0m\n\u001b[1;32m    <a href='file:///home/qgallouedec/go-explore/env/lib/python3.8/site-packages/stable_baselines3/dqn/dqn.py?line=244'>245</a>\u001b[0m \u001b[39mdef\u001b[39;00m \u001b[39mlearn\u001b[39m(\n\u001b[1;32m    <a href='file:///home/qgallouedec/go-explore/env/lib/python3.8/site-packages/stable_baselines3/dqn/dqn.py?line=245'>246</a>\u001b[0m     \u001b[39mself\u001b[39m,\n\u001b[1;32m    <a href='file:///home/qgallouedec/go-explore/env/lib/python3.8/site-packages/stable_baselines3/dqn/dqn.py?line=246'>247</a>\u001b[0m     total_timesteps: \u001b[39mint\u001b[39m,\n\u001b[0;32m   (...)\u001b[0m\n\u001b[1;32m    <a href='file:///home/qgallouedec/go-explore/env/lib/python3.8/site-packages/stable_baselines3/dqn/dqn.py?line=254'>255</a>\u001b[0m     reset_num_timesteps: \u001b[39mbool\u001b[39m \u001b[39m=\u001b[39m \u001b[39mTrue\u001b[39;00m,\n\u001b[1;32m    <a href='file:///home/qgallouedec/go-explore/env/lib/python3.8/site-packages/stable_baselines3/dqn/dqn.py?line=255'>256</a>\u001b[0m ) \u001b[39m-\u001b[39m\u001b[39m>\u001b[39m OffPolicyAlgorithm:\n\u001b[0;32m--> <a href='file:///home/qgallouedec/go-explore/env/lib/python3.8/site-packages/stable_baselines3/dqn/dqn.py?line=257'>258</a>\u001b[0m     \u001b[39mreturn\u001b[39;00m \u001b[39msuper\u001b[39;49m(DQN, \u001b[39mself\u001b[39;49m)\u001b[39m.\u001b[39;49mlearn(\n\u001b[1;32m    <a href='file:///home/qgallouedec/go-explore/env/lib/python3.8/site-packages/stable_baselines3/dqn/dqn.py?line=258'>259</a>\u001b[0m         total_timesteps\u001b[39m=\u001b[39;49mtotal_timesteps,\n\u001b[1;32m    <a href='file:///home/qgallouedec/go-explore/env/lib/python3.8/site-packages/stable_baselines3/dqn/dqn.py?line=259'>260</a>\u001b[0m         callback\u001b[39m=\u001b[39;49mcallback,\n\u001b[1;32m    <a href='file:///home/qgallouedec/go-explore/env/lib/python3.8/site-packages/stable_baselines3/dqn/dqn.py?line=260'>261</a>\u001b[0m         log_interval\u001b[39m=\u001b[39;49mlog_interval,\n\u001b[1;32m    <a href='file:///home/qgallouedec/go-explore/env/lib/python3.8/site-packages/stable_baselines3/dqn/dqn.py?line=261'>262</a>\u001b[0m         eval_env\u001b[39m=\u001b[39;49meval_env,\n\u001b[1;32m    <a href='file:///home/qgallouedec/go-explore/env/lib/python3.8/site-packages/stable_baselines3/dqn/dqn.py?line=262'>263</a>\u001b[0m         eval_freq\u001b[39m=\u001b[39;49meval_freq,\n\u001b[1;32m    <a href='file:///home/qgallouedec/go-explore/env/lib/python3.8/site-packages/stable_baselines3/dqn/dqn.py?line=263'>264</a>\u001b[0m         n_eval_episodes\u001b[39m=\u001b[39;49mn_eval_episodes,\n\u001b[1;32m    <a href='file:///home/qgallouedec/go-explore/env/lib/python3.8/site-packages/stable_baselines3/dqn/dqn.py?line=264'>265</a>\u001b[0m         tb_log_name\u001b[39m=\u001b[39;49mtb_log_name,\n\u001b[1;32m    <a href='file:///home/qgallouedec/go-explore/env/lib/python3.8/site-packages/stable_baselines3/dqn/dqn.py?line=265'>266</a>\u001b[0m         eval_log_path\u001b[39m=\u001b[39;49meval_log_path,\n\u001b[1;32m    <a href='file:///home/qgallouedec/go-explore/env/lib/python3.8/site-packages/stable_baselines3/dqn/dqn.py?line=266'>267</a>\u001b[0m         reset_num_timesteps\u001b[39m=\u001b[39;49mreset_num_timesteps,\n\u001b[1;32m    <a href='file:///home/qgallouedec/go-explore/env/lib/python3.8/site-packages/stable_baselines3/dqn/dqn.py?line=267'>268</a>\u001b[0m     )\n",
      "File \u001b[0;32m~/go-explore/env/lib/python3.8/site-packages/stable_baselines3/common/off_policy_algorithm.py:325\u001b[0m, in \u001b[0;36mOffPolicyAlgorithm.learn\u001b[0;34m(self, total_timesteps, callback, log_interval, eval_env, eval_freq, n_eval_episodes, tb_log_name, eval_log_path, reset_num_timesteps)\u001b[0m\n\u001b[1;32m    <a href='file:///home/qgallouedec/go-explore/env/lib/python3.8/site-packages/stable_baselines3/common/off_policy_algorithm.py?line=321'>322</a>\u001b[0m callback\u001b[39m.\u001b[39mon_training_start(\u001b[39mlocals\u001b[39m(), \u001b[39mglobals\u001b[39m())\n\u001b[1;32m    <a href='file:///home/qgallouedec/go-explore/env/lib/python3.8/site-packages/stable_baselines3/common/off_policy_algorithm.py?line=323'>324</a>\u001b[0m \u001b[39mwhile\u001b[39;00m \u001b[39mself\u001b[39m\u001b[39m.\u001b[39mnum_timesteps \u001b[39m<\u001b[39m total_timesteps:\n\u001b[0;32m--> <a href='file:///home/qgallouedec/go-explore/env/lib/python3.8/site-packages/stable_baselines3/common/off_policy_algorithm.py?line=324'>325</a>\u001b[0m     rollout \u001b[39m=\u001b[39m \u001b[39mself\u001b[39;49m\u001b[39m.\u001b[39;49mcollect_rollouts(\n\u001b[1;32m    <a href='file:///home/qgallouedec/go-explore/env/lib/python3.8/site-packages/stable_baselines3/common/off_policy_algorithm.py?line=325'>326</a>\u001b[0m         \u001b[39mself\u001b[39;49m\u001b[39m.\u001b[39;49menv,\n\u001b[1;32m    <a href='file:///home/qgallouedec/go-explore/env/lib/python3.8/site-packages/stable_baselines3/common/off_policy_algorithm.py?line=326'>327</a>\u001b[0m         train_freq\u001b[39m=\u001b[39;49m\u001b[39mself\u001b[39;49m\u001b[39m.\u001b[39;49mtrain_freq,\n\u001b[1;32m    <a href='file:///home/qgallouedec/go-explore/env/lib/python3.8/site-packages/stable_baselines3/common/off_policy_algorithm.py?line=327'>328</a>\u001b[0m         action_noise\u001b[39m=\u001b[39;49m\u001b[39mself\u001b[39;49m\u001b[39m.\u001b[39;49maction_noise,\n\u001b[1;32m    <a href='file:///home/qgallouedec/go-explore/env/lib/python3.8/site-packages/stable_baselines3/common/off_policy_algorithm.py?line=328'>329</a>\u001b[0m         callback\u001b[39m=\u001b[39;49mcallback,\n\u001b[1;32m    <a href='file:///home/qgallouedec/go-explore/env/lib/python3.8/site-packages/stable_baselines3/common/off_policy_algorithm.py?line=329'>330</a>\u001b[0m         learning_starts\u001b[39m=\u001b[39;49m\u001b[39mself\u001b[39;49m\u001b[39m.\u001b[39;49mlearning_starts,\n\u001b[1;32m    <a href='file:///home/qgallouedec/go-explore/env/lib/python3.8/site-packages/stable_baselines3/common/off_policy_algorithm.py?line=330'>331</a>\u001b[0m         replay_buffer\u001b[39m=\u001b[39;49m\u001b[39mself\u001b[39;49m\u001b[39m.\u001b[39;49mreplay_buffer,\n\u001b[1;32m    <a href='file:///home/qgallouedec/go-explore/env/lib/python3.8/site-packages/stable_baselines3/common/off_policy_algorithm.py?line=331'>332</a>\u001b[0m         log_interval\u001b[39m=\u001b[39;49mlog_interval,\n\u001b[1;32m    <a href='file:///home/qgallouedec/go-explore/env/lib/python3.8/site-packages/stable_baselines3/common/off_policy_algorithm.py?line=332'>333</a>\u001b[0m     )\n\u001b[1;32m    <a href='file:///home/qgallouedec/go-explore/env/lib/python3.8/site-packages/stable_baselines3/common/off_policy_algorithm.py?line=334'>335</a>\u001b[0m     \u001b[39mif\u001b[39;00m rollout\u001b[39m.\u001b[39mcontinue_training \u001b[39mis\u001b[39;00m \u001b[39mFalse\u001b[39;00m:\n\u001b[1;32m    <a href='file:///home/qgallouedec/go-explore/env/lib/python3.8/site-packages/stable_baselines3/common/off_policy_algorithm.py?line=335'>336</a>\u001b[0m         \u001b[39mbreak\u001b[39;00m\n",
      "File \u001b[0;32m~/go-explore/env/lib/python3.8/site-packages/stable_baselines3/common/off_policy_algorithm.py:581\u001b[0m, in \u001b[0;36mOffPolicyAlgorithm.collect_rollouts\u001b[0;34m(self, env, callback, train_freq, replay_buffer, action_noise, learning_starts, log_interval)\u001b[0m\n\u001b[1;32m    <a href='file:///home/qgallouedec/go-explore/env/lib/python3.8/site-packages/stable_baselines3/common/off_policy_algorithm.py?line=577'>578</a>\u001b[0m \u001b[39mself\u001b[39m\u001b[39m.\u001b[39m_update_info_buffer(infos, dones)\n\u001b[1;32m    <a href='file:///home/qgallouedec/go-explore/env/lib/python3.8/site-packages/stable_baselines3/common/off_policy_algorithm.py?line=579'>580</a>\u001b[0m \u001b[39m# Store data in replay buffer (normalized action and unnormalized observation)\u001b[39;00m\n\u001b[0;32m--> <a href='file:///home/qgallouedec/go-explore/env/lib/python3.8/site-packages/stable_baselines3/common/off_policy_algorithm.py?line=580'>581</a>\u001b[0m \u001b[39mself\u001b[39;49m\u001b[39m.\u001b[39;49m_store_transition(replay_buffer, buffer_actions, new_obs, rewards, dones, infos)\n\u001b[1;32m    <a href='file:///home/qgallouedec/go-explore/env/lib/python3.8/site-packages/stable_baselines3/common/off_policy_algorithm.py?line=582'>583</a>\u001b[0m \u001b[39mself\u001b[39m\u001b[39m.\u001b[39m_update_current_progress_remaining(\u001b[39mself\u001b[39m\u001b[39m.\u001b[39mnum_timesteps, \u001b[39mself\u001b[39m\u001b[39m.\u001b[39m_total_timesteps)\n\u001b[1;32m    <a href='file:///home/qgallouedec/go-explore/env/lib/python3.8/site-packages/stable_baselines3/common/off_policy_algorithm.py?line=584'>585</a>\u001b[0m \u001b[39m# For DQN, check if the target network should be updated\u001b[39;00m\n\u001b[1;32m    <a href='file:///home/qgallouedec/go-explore/env/lib/python3.8/site-packages/stable_baselines3/common/off_policy_algorithm.py?line=585'>586</a>\u001b[0m \u001b[39m# and update the exploration schedule\u001b[39;00m\n\u001b[1;32m    <a href='file:///home/qgallouedec/go-explore/env/lib/python3.8/site-packages/stable_baselines3/common/off_policy_algorithm.py?line=586'>587</a>\u001b[0m \u001b[39m# For SAC/TD3, the update is dones as the same time as the gradient update\u001b[39;00m\n\u001b[1;32m    <a href='file:///home/qgallouedec/go-explore/env/lib/python3.8/site-packages/stable_baselines3/common/off_policy_algorithm.py?line=587'>588</a>\u001b[0m \u001b[39m# see https://github.com/hill-a/stable-baselines/issues/900\u001b[39;00m\n",
      "File \u001b[0;32m~/go-explore/env/lib/python3.8/site-packages/stable_baselines3/common/off_policy_algorithm.py:492\u001b[0m, in \u001b[0;36mOffPolicyAlgorithm._store_transition\u001b[0;34m(self, replay_buffer, buffer_action, new_obs, reward, dones, infos)\u001b[0m\n\u001b[1;32m    <a href='file:///home/qgallouedec/go-explore/env/lib/python3.8/site-packages/stable_baselines3/common/off_policy_algorithm.py?line=488'>489</a>\u001b[0m             \u001b[39mif\u001b[39;00m \u001b[39mself\u001b[39m\u001b[39m.\u001b[39m_vec_normalize_env \u001b[39mis\u001b[39;00m \u001b[39mnot\u001b[39;00m \u001b[39mNone\u001b[39;00m:\n\u001b[1;32m    <a href='file:///home/qgallouedec/go-explore/env/lib/python3.8/site-packages/stable_baselines3/common/off_policy_algorithm.py?line=489'>490</a>\u001b[0m                 next_obs[i] \u001b[39m=\u001b[39m \u001b[39mself\u001b[39m\u001b[39m.\u001b[39m_vec_normalize_env\u001b[39m.\u001b[39munnormalize_obs(next_obs[i, :])\n\u001b[0;32m--> <a href='file:///home/qgallouedec/go-explore/env/lib/python3.8/site-packages/stable_baselines3/common/off_policy_algorithm.py?line=491'>492</a>\u001b[0m replay_buffer\u001b[39m.\u001b[39;49madd(\n\u001b[1;32m    <a href='file:///home/qgallouedec/go-explore/env/lib/python3.8/site-packages/stable_baselines3/common/off_policy_algorithm.py?line=492'>493</a>\u001b[0m     \u001b[39mself\u001b[39;49m\u001b[39m.\u001b[39;49m_last_original_obs,\n\u001b[1;32m    <a href='file:///home/qgallouedec/go-explore/env/lib/python3.8/site-packages/stable_baselines3/common/off_policy_algorithm.py?line=493'>494</a>\u001b[0m     next_obs,\n\u001b[1;32m    <a href='file:///home/qgallouedec/go-explore/env/lib/python3.8/site-packages/stable_baselines3/common/off_policy_algorithm.py?line=494'>495</a>\u001b[0m     buffer_action,\n\u001b[1;32m    <a href='file:///home/qgallouedec/go-explore/env/lib/python3.8/site-packages/stable_baselines3/common/off_policy_algorithm.py?line=495'>496</a>\u001b[0m     reward_,\n\u001b[1;32m    <a href='file:///home/qgallouedec/go-explore/env/lib/python3.8/site-packages/stable_baselines3/common/off_policy_algorithm.py?line=496'>497</a>\u001b[0m     dones,\n\u001b[1;32m    <a href='file:///home/qgallouedec/go-explore/env/lib/python3.8/site-packages/stable_baselines3/common/off_policy_algorithm.py?line=497'>498</a>\u001b[0m     infos,\n\u001b[1;32m    <a href='file:///home/qgallouedec/go-explore/env/lib/python3.8/site-packages/stable_baselines3/common/off_policy_algorithm.py?line=498'>499</a>\u001b[0m )\n\u001b[1;32m    <a href='file:///home/qgallouedec/go-explore/env/lib/python3.8/site-packages/stable_baselines3/common/off_policy_algorithm.py?line=500'>501</a>\u001b[0m \u001b[39mself\u001b[39m\u001b[39m.\u001b[39m_last_obs \u001b[39m=\u001b[39m new_obs\n\u001b[1;32m    <a href='file:///home/qgallouedec/go-explore/env/lib/python3.8/site-packages/stable_baselines3/common/off_policy_algorithm.py?line=501'>502</a>\u001b[0m \u001b[39m# Save the unnormalized observation\u001b[39;00m\n",
      "File \u001b[0;32m~/go-explore/go_explore/archive.py:149\u001b[0m, in \u001b[0;36mArchiveBuffer.add\u001b[0;34m(self, obs, next_obs, action, reward, done, infos)\u001b[0m\n\u001b[1;32m    <a href='file:///home/qgallouedec/go-explore/go_explore/archive.py?line=138'>139</a>\u001b[0m \u001b[39mdef\u001b[39;00m \u001b[39madd\u001b[39m(\n\u001b[1;32m    <a href='file:///home/qgallouedec/go-explore/go_explore/archive.py?line=139'>140</a>\u001b[0m     \u001b[39mself\u001b[39m,\n\u001b[1;32m    <a href='file:///home/qgallouedec/go-explore/go_explore/archive.py?line=140'>141</a>\u001b[0m     obs: Dict[\u001b[39mstr\u001b[39m, np\u001b[39m.\u001b[39mndarray],\n\u001b[0;32m   (...)\u001b[0m\n\u001b[1;32m    <a href='file:///home/qgallouedec/go-explore/go_explore/archive.py?line=145'>146</a>\u001b[0m     infos: List[Dict[\u001b[39mstr\u001b[39m, Any]],\n\u001b[1;32m    <a href='file:///home/qgallouedec/go-explore/go_explore/archive.py?line=146'>147</a>\u001b[0m ) \u001b[39m-\u001b[39m\u001b[39m>\u001b[39m \u001b[39mNone\u001b[39;00m:\n\u001b[1;32m    <a href='file:///home/qgallouedec/go-explore/go_explore/archive.py?line=147'>148</a>\u001b[0m     \u001b[39mself\u001b[39m\u001b[39m.\u001b[39m_erase_if_write_over()\n\u001b[0;32m--> <a href='file:///home/qgallouedec/go-explore/go_explore/archive.py?line=148'>149</a>\u001b[0m     \u001b[39mself\u001b[39;49m\u001b[39m.\u001b[39;49m_add_new_cell(next_obs[\u001b[39m\"\u001b[39;49m\u001b[39mobservation\u001b[39;49m\u001b[39m\"\u001b[39;49m])\n\u001b[1;32m    <a href='file:///home/qgallouedec/go-explore/go_explore/archive.py?line=150'>151</a>\u001b[0m     \u001b[39m# Update episode start\u001b[39;00m\n\u001b[1;32m    <a href='file:///home/qgallouedec/go-explore/go_explore/archive.py?line=151'>152</a>\u001b[0m     \u001b[39mself\u001b[39m\u001b[39m.\u001b[39mep_start[\u001b[39mself\u001b[39m\u001b[39m.\u001b[39mpos] \u001b[39m=\u001b[39m \u001b[39mself\u001b[39m\u001b[39m.\u001b[39m_current_ep_start\u001b[39m.\u001b[39mcopy()\n",
      "File \u001b[0;32m~/go-explore/go_explore/archive.py:199\u001b[0m, in \u001b[0;36mArchiveBuffer._add_new_cell\u001b[0;34m(self, obs)\u001b[0m\n\u001b[1;32m    <a href='file:///home/qgallouedec/go-explore/go_explore/archive.py?line=196'>197</a>\u001b[0m \u001b[39mfor\u001b[39;00m env_idx \u001b[39min\u001b[39;00m \u001b[39mrange\u001b[39m(\u001b[39mself\u001b[39m\u001b[39m.\u001b[39mn_envs):\n\u001b[1;32m    <a href='file:///home/qgallouedec/go-explore/go_explore/archive.py?line=197'>198</a>\u001b[0m     cell \u001b[39m=\u001b[39m cells[env_idx]\n\u001b[0;32m--> <a href='file:///home/qgallouedec/go-explore/go_explore/archive.py?line=198'>199</a>\u001b[0m     maybe_cell_uid \u001b[39m=\u001b[39m index(cell, \u001b[39mself\u001b[39;49m\u001b[39m.\u001b[39;49munique_cells)\n\u001b[1;32m    <a href='file:///home/qgallouedec/go-explore/go_explore/archive.py?line=199'>200</a>\u001b[0m     \u001b[39mif\u001b[39;00m maybe_cell_uid \u001b[39mis\u001b[39;00m \u001b[39mnot\u001b[39;00m \u001b[39mNone\u001b[39;00m:\n\u001b[1;32m    <a href='file:///home/qgallouedec/go-explore/go_explore/archive.py?line=200'>201</a>\u001b[0m         \u001b[39m# Cell is known, so we increase the cell count\u001b[39;00m\n\u001b[1;32m    <a href='file:///home/qgallouedec/go-explore/go_explore/archive.py?line=201'>202</a>\u001b[0m         \u001b[39mself\u001b[39m\u001b[39m.\u001b[39mcounts[maybe_cell_uid] \u001b[39m+\u001b[39m\u001b[39m=\u001b[39m \u001b[39m1\u001b[39m\n",
      "File \u001b[0;32m~/go-explore/go_explore/utils.py:32\u001b[0m, in \u001b[0;36mindex\u001b[0;34m(a, b)\u001b[0m\n\u001b[1;32m     <a href='file:///home/qgallouedec/go-explore/go_explore/utils.py?line=23'>24</a>\u001b[0m \u001b[39mdef\u001b[39;00m \u001b[39mindex\u001b[39m(a: np\u001b[39m.\u001b[39mndarray, b: np\u001b[39m.\u001b[39mndarray) \u001b[39m-\u001b[39m\u001b[39m>\u001b[39m Optional[\u001b[39mint\u001b[39m]:\n\u001b[1;32m     <a href='file:///home/qgallouedec/go-explore/go_explore/utils.py?line=24'>25</a>\u001b[0m     \u001b[39m\"\"\"\u001b[39;00m\n\u001b[1;32m     <a href='file:///home/qgallouedec/go-explore/go_explore/utils.py?line=25'>26</a>\u001b[0m \u001b[39m    Index of first occurence of a in b.\u001b[39;00m\n\u001b[1;32m     <a href='file:///home/qgallouedec/go-explore/go_explore/utils.py?line=26'>27</a>\u001b[0m \n\u001b[0;32m   (...)\u001b[0m\n\u001b[1;32m     <a href='file:///home/qgallouedec/go-explore/go_explore/utils.py?line=29'>30</a>\u001b[0m \u001b[39m    :return: index of the first occurence of a in b\u001b[39;00m\n\u001b[1;32m     <a href='file:///home/qgallouedec/go-explore/go_explore/utils.py?line=30'>31</a>\u001b[0m \u001b[39m    \"\"\"\u001b[39;00m\n\u001b[0;32m---> <a href='file:///home/qgallouedec/go-explore/go_explore/utils.py?line=31'>32</a>\u001b[0m     idxs \u001b[39m=\u001b[39m indexes(a, b)\n\u001b[1;32m     <a href='file:///home/qgallouedec/go-explore/go_explore/utils.py?line=32'>33</a>\u001b[0m     \u001b[39mif\u001b[39;00m idxs\u001b[39m.\u001b[39mshape[\u001b[39m0\u001b[39m] \u001b[39m==\u001b[39m \u001b[39m0\u001b[39m:\n\u001b[1;32m     <a href='file:///home/qgallouedec/go-explore/go_explore/utils.py?line=33'>34</a>\u001b[0m         \u001b[39mreturn\u001b[39;00m \u001b[39mNone\u001b[39;00m\n",
      "File \u001b[0;32m~/go-explore/go_explore/utils.py:20\u001b[0m, in \u001b[0;36mindexes\u001b[0;34m(a, b)\u001b[0m\n\u001b[1;32m     <a href='file:///home/qgallouedec/go-explore/go_explore/utils.py?line=17'>18</a>\u001b[0m a \u001b[39m=\u001b[39m a\u001b[39m.\u001b[39mflatten()\n\u001b[1;32m     <a href='file:///home/qgallouedec/go-explore/go_explore/utils.py?line=18'>19</a>\u001b[0m b \u001b[39m=\u001b[39m b\u001b[39m.\u001b[39mreshape((b\u001b[39m.\u001b[39mshape[\u001b[39m0\u001b[39m], \u001b[39m-\u001b[39m\u001b[39m1\u001b[39m))\n\u001b[0;32m---> <a href='file:///home/qgallouedec/go-explore/go_explore/utils.py?line=19'>20</a>\u001b[0m idxs \u001b[39m=\u001b[39m np\u001b[39m.\u001b[39mwhere((a \u001b[39m==\u001b[39;49m b)\u001b[39m.\u001b[39mall(\u001b[39m1\u001b[39m))[\u001b[39m0\u001b[39m]\n\u001b[1;32m     <a href='file:///home/qgallouedec/go-explore/go_explore/utils.py?line=20'>21</a>\u001b[0m \u001b[39mreturn\u001b[39;00m idxs\n",
      "\u001b[0;31mKeyboardInterrupt\u001b[0m: "
     ]
    }
   ],
   "source": [
    "model.explore(10_000)"
   ]
  }
 ],
 "metadata": {
  "interpreter": {
   "hash": "f48e9823b73d61fb1e9f2e586933b91323c7e489dd89b69b8ad5cbedc4bff826"
  },
  "kernelspec": {
   "display_name": "Python 3.8.10 ('env': venv)",
   "language": "python",
   "name": "python3"
  },
  "language_info": {
   "codemirror_mode": {
    "name": "ipython",
    "version": 3
   },
   "file_extension": ".py",
   "mimetype": "text/x-python",
   "name": "python",
   "nbconvert_exporter": "python",
   "pygments_lexer": "ipython3",
   "version": "3.8.10"
  },
  "orig_nbformat": 4
 },
 "nbformat": 4,
 "nbformat_minor": 2
}
