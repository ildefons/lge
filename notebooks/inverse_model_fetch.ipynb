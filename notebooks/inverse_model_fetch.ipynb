{
 "cells": [
  {
   "cell_type": "markdown",
   "metadata": {},
   "source": [
    "# Inverse model on FetchNoTask\n",
    "\n",
    "## Instanciate and train the model"
   ]
  },
  {
   "cell_type": "markdown",
   "metadata": {},
   "source": [
    "Create the environment."
   ]
  },
  {
   "cell_type": "code",
   "execution_count": 1,
   "metadata": {},
   "outputs": [],
   "source": [
    "import gym\n",
    "import gym_robotics\n",
    "from stable_baselines3.common.env_util import make_vec_env\n",
    "\n",
    "n_envs = 1\n",
    "\n",
    "env = make_vec_env(\"FetchNoTask-v1\", n_envs=n_envs, env_kwargs=dict(image_obs_space=True))\n"
   ]
  },
  {
   "cell_type": "code",
   "execution_count": 2,
   "metadata": {},
   "outputs": [
    {
     "name": "stdout",
     "output_type": "stream",
     "text": [
      "Found 3 GPUs for rendering. Using device 0.\n"
     ]
    },
    {
     "data": {
      "text/plain": [
       "array([[[[ 27,  28,  29],\n",
       "         [ 27,  28,  29],\n",
       "         [ 27,  28,  29],\n",
       "         ...,\n",
       "         [114, 218, 145],\n",
       "         [114, 218, 145],\n",
       "         [114, 218, 145]],\n",
       "\n",
       "        [[ 72,  72,  73],\n",
       "         [ 81,  81,  82],\n",
       "         [ 81,  81,  82],\n",
       "         ...,\n",
       "         [114, 218, 145],\n",
       "         [114, 218, 145],\n",
       "         [114, 218, 145]],\n",
       "\n",
       "        [[199, 199, 199],\n",
       "         [210, 210, 210],\n",
       "         [216, 216, 216],\n",
       "         ...,\n",
       "         [114, 218, 145],\n",
       "         [114, 218, 145],\n",
       "         [114, 218, 145]],\n",
       "\n",
       "        ...,\n",
       "\n",
       "        [[140, 140, 140],\n",
       "         [140, 140, 140],\n",
       "         [140, 140, 140],\n",
       "         ...,\n",
       "         [ 61,  61,  61],\n",
       "         [ 88, 140, 103],\n",
       "         [115, 220, 146]],\n",
       "\n",
       "        [[140, 140, 140],\n",
       "         [140, 140, 140],\n",
       "         [140, 140, 140],\n",
       "         ...,\n",
       "         [ 75, 101,  82],\n",
       "         [115, 220, 146],\n",
       "         [115, 220, 146]],\n",
       "\n",
       "        [[140, 140, 140],\n",
       "         [140, 140, 140],\n",
       "         [140, 140, 140],\n",
       "         ...,\n",
       "         [116, 220, 146],\n",
       "         [116, 220, 146],\n",
       "         [116, 220, 146]]]], dtype=uint8)"
      ]
     },
     "execution_count": 2,
     "metadata": {},
     "output_type": "execute_result"
    }
   ],
   "source": [
    "from PIL import Image\n",
    "import numpy as np\n",
    "\n",
    "env.reset()\n",
    "# actions = np.array([[0, 0, 0, 0], [1, 1, 1, 0]])\n",
    "# obs0, rew, done, info = env.step(actions)\n",
    "# actions = np.array([[0, 0, 0, 0], [1, 1, 1, 0]])\n",
    "# obs1, rew, done, info = env.step(actions)\n",
    "# actions = np.array([[0, 0, 0, 0], [1, 1, 1, 0]])\n",
    "# obs2, rew, done, info = env.step(actions)\n"
   ]
  },
  {
   "cell_type": "markdown",
   "metadata": {},
   "source": [
    "Display an observation."
   ]
  },
  {
   "cell_type": "code",
   "execution_count": 3,
   "metadata": {},
   "outputs": [],
   "source": [
    "from IPython.display import display\n",
    "\n",
    "# im = Image.fromarray(np.hstack((obs0[0], obs0[1],)))\n",
    "# display(im)\n",
    "# im = Image.fromarray(np.hstack((obs1[0], obs1[1],)))\n",
    "# display(im)\n",
    "# im = Image.fromarray(np.hstack((obs2[0], obs2[1],)))\n",
    "# display(im)"
   ]
  },
  {
   "cell_type": "markdown",
   "metadata": {},
   "source": [
    "Initilize the device."
   ]
  },
  {
   "cell_type": "code",
   "execution_count": 4,
   "metadata": {},
   "outputs": [],
   "source": [
    "import torch\n",
    "\n",
    "device = \"cuda\" if torch.cuda.is_available() else \"cpu\""
   ]
  },
  {
   "cell_type": "markdown",
   "metadata": {},
   "source": [
    "Create a buffer and feed it."
   ]
  },
  {
   "cell_type": "code",
   "execution_count": 5,
   "metadata": {},
   "outputs": [],
   "source": [
    "import numpy as np\n",
    "\n",
    "from stable_baselines3.common.buffers import ReplayBuffer\n",
    "from stable_baselines3.common.vec_env import VecTransposeImage\n",
    "\n",
    "\n",
    "buffer = ReplayBuffer(\n",
    "    60_000, VecTransposeImage.transpose_space(env.observation_space), env.action_space, n_envs=n_envs, device=device\n",
    ")\n",
    "\n",
    "obs = VecTransposeImage.transpose_image(env.reset())\n",
    "for _ in range(50_000//n_envs):\n",
    "    actions = np.array([env.action_space.sample() for _ in range(n_envs)])\n",
    "\n",
    "    _next_obs, rewards, dones, infos = env.step(actions)\n",
    "    _next_obs = VecTransposeImage.transpose_image(_next_obs)\n",
    "    next_obs = _next_obs.copy()\n",
    "\n",
    "    for env_idx in range(n_envs):\n",
    "        if dones[env_idx]:\n",
    "            next_obs[env_idx] = VecTransposeImage.transpose_image(infos[env_idx][\"terminal_observation\"])\n",
    "\n",
    "    buffer.add(obs, next_obs, actions, rewards, dones, infos)\n",
    "    obs = _next_obs.copy()\n",
    "\n"
   ]
  },
  {
   "cell_type": "code",
   "execution_count": 6,
   "metadata": {},
   "outputs": [
    {
     "data": {
      "text/plain": [
       "50000"
      ]
     },
     "execution_count": 6,
     "metadata": {},
     "output_type": "execute_result"
    }
   ],
   "source": [
    "buffer.pos"
   ]
  },
  {
   "cell_type": "markdown",
   "metadata": {},
   "source": [
    "Instanciate the model and the optimizer."
   ]
  },
  {
   "cell_type": "code",
   "execution_count": 10,
   "metadata": {},
   "outputs": [],
   "source": [
    "from go_explore.inverse_model import ConvInverseModel\n",
    "\n",
    "from torch import optim\n",
    "\n",
    "inverse_model = ConvInverseModel(action_size=env.action_space.shape[0], latent_size=6).to(device)\n",
    "optimizer = optim.Adam(inverse_model.parameters(), lr=1e-3)"
   ]
  },
  {
   "cell_type": "markdown",
   "metadata": {},
   "source": [
    "Train the model."
   ]
  },
  {
   "cell_type": "code",
   "execution_count": 11,
   "metadata": {},
   "outputs": [
    {
     "name": "stdout",
     "output_type": "stream",
     "text": [
      "epoch:     0\tprediction loss: 0.37299\n",
      "epoch:   500\tprediction loss: 0.35189\n",
      "epoch:  1000\tprediction loss: 0.18019\n",
      "epoch:  1500\tprediction loss: 0.20335\n",
      "epoch:  2000\tprediction loss: 0.23017\n",
      "epoch:  2500\tprediction loss: 0.15616\n",
      "epoch:  3000\tprediction loss: 0.08469\n",
      "epoch:  3500\tprediction loss: 0.14622\n",
      "epoch:  4000\tprediction loss: 0.12441\n",
      "epoch:  4500\tprediction loss: 0.11120\n"
     ]
    }
   ],
   "source": [
    "import torch.nn.functional as F\n",
    "\n",
    "\n",
    "for epoch in range(5_000):\n",
    "    # Sample\n",
    "    sample = buffer.sample(32)\n",
    "    observations = sample.observations.float() / 255\n",
    "    next_observations = sample.next_observations.float() / 255\n",
    "    actions = sample.actions\n",
    "\n",
    "    # Compute the output image\n",
    "    inverse_model.train()\n",
    "    pred_actions = inverse_model(observations, next_observations)\n",
    "\n",
    "    # Compute the loss\n",
    "    loss = F.mse_loss(pred_actions, actions)\n",
    "\n",
    "    # Step the optimizer\n",
    "    optimizer.zero_grad()\n",
    "    loss.backward()\n",
    "    optimizer.step()\n",
    "\n",
    "    if epoch % 500 == 0:\n",
    "        print(\"epoch: {:5d}\\tprediction loss: {:.5f}\".format(epoch, loss.item()))"
   ]
  },
  {
   "cell_type": "markdown",
   "metadata": {},
   "source": [
    "See the result for one transition."
   ]
  },
  {
   "cell_type": "code",
   "execution_count": 9,
   "metadata": {},
   "outputs": [
    {
     "name": "stdout",
     "output_type": "stream",
     "text": [
      "true action\t\t tensor([[ 0.8778,  0.8408, -0.6026, -0.6051]], device='cuda:0')\n",
      "predicted action\t tensor([[-6.6751e-03,  7.0016e-05, -1.1007e-02,  8.9878e-03]], device='cuda:0',\n",
      "       grad_fn=<AddmmBackward0>)\n",
      "torch.Size([3, 168, 84])\n"
     ]
    },
    {
     "data": {
      "image/png": "[encoded data removed]",
      "text/plain": [
       "<PIL.Image.Image image mode=RGB size=84x168>"
      ]
     },
     "metadata": {},
     "output_type": "display_data"
    }
   ],
   "source": [
    "# Sample one transition\n",
    "sample = buffer.sample(1)\n",
    "observations = sample.observations.float() / 255\n",
    "next_observations = sample.next_observations.float() / 255\n",
    "actions = sample.actions\n",
    "\n",
    "# Predict the action\n",
    "inverse_model.eval()\n",
    "pred_actions = inverse_model(observations, next_observations)\n",
    "\n",
    "# See the result\n",
    "print(\"true action\\t\\t\", actions)\n",
    "print(\"predicted action\\t\", pred_actions)\n",
    "\n",
    "x = torch.dstack((sample.observations, sample.next_observations)).squeeze()\n",
    "print(x.shape)\n",
    "im = Image.fromarray(x.moveaxis(0, 2).detach().cpu().numpy())\n",
    "display(im)\n",
    "\n"
   ]
  }
 ],
 "metadata": {
  "interpreter": {
   "hash": "f48e9823b73d61fb1e9f2e586933b91323c7e489dd89b69b8ad5cbedc4bff826"
  },
  "kernelspec": {
   "display_name": "Python 3.8.10 ('env': venv)",
   "language": "python",
   "name": "python3"
  },
  "language_info": {
   "codemirror_mode": {
    "name": "ipython",
    "version": 3
   },
   "file_extension": ".py",
   "mimetype": "text/x-python",
   "name": "python",
   "nbconvert_exporter": "python",
   "pygments_lexer": "ipython3",
   "version": "3.8.10"
  },
  "orig_nbformat": 4
 },
 "nbformat": 4,
 "nbformat_minor": 2
}
