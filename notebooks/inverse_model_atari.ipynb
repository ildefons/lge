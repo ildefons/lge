{
 "cells": [
  {
   "cell_type": "markdown",
   "metadata": {},
   "source": [
    "# Quantized latent with inverse model on continuous maze\n",
    "\n",
    "## Instanciate and train the model"
   ]
  },
  {
   "cell_type": "markdown",
   "metadata": {},
   "source": [
    "Create the environment."
   ]
  },
  {
   "cell_type": "code",
   "execution_count": 1,
   "metadata": {},
   "outputs": [
    {
     "name": "stderr",
     "output_type": "stream",
     "text": [
      "A.L.E: Arcade Learning Environment (version 0.7.4+069f8bd)\n",
      "[Powered by Stella]\n"
     ]
    }
   ],
   "source": [
    "import gym\n",
    "from lge.utils import MontezumaRevengeWrapper\n",
    "\n",
    "env = gym.make(\"ALE/MontezumaRevenge-v5\")\n",
    "env = MontezumaRevengeWrapper(env)"
   ]
  },
  {
   "cell_type": "code",
   "execution_count": 2,
   "metadata": {},
   "outputs": [],
   "source": [
    "from PIL import Image\n",
    "import numpy as np\n",
    "\n",
    "env.reset()\n",
    "obs, rew, done, info = env.step(env.action_space.sample())\n",
    "im = np.hstack((obs[:, :, 0:3], obs[:, :, 3:6], obs[:, :, 6:9], obs[:, :, 9:12]))\n",
    "im = Image.fromarray(im)"
   ]
  },
  {
   "cell_type": "code",
   "execution_count": 3,
   "metadata": {},
   "outputs": [
    {
     "data": {
      "image/png": "[encoded data removed]",
      "text/plain": [
       "<PIL.Image.Image image mode=RGB size=336x84>"
      ]
     },
     "metadata": {},
     "output_type": "display_data"
    }
   ],
   "source": [
    "from IPython.display import display\n",
    "\n",
    "display(im)"
   ]
  },
  {
   "cell_type": "markdown",
   "metadata": {},
   "source": [
    "Initilize the device."
   ]
  },
  {
   "cell_type": "code",
   "execution_count": 4,
   "metadata": {},
   "outputs": [],
   "source": [
    "import torch\n",
    "\n",
    "device = \"cuda\" if torch.cuda.is_available() else \"cpu\""
   ]
  },
  {
   "cell_type": "markdown",
   "metadata": {},
   "source": [
    "Create a buffer and feed it."
   ]
  },
  {
   "cell_type": "code",
   "execution_count": 5,
   "metadata": {},
   "outputs": [],
   "source": [
    "import numpy as np\n",
    "\n",
    "from stable_baselines3.common.buffers import ReplayBuffer\n",
    "from stable_baselines3.common.vec_env import VecTransposeImage\n",
    "\n",
    "buffer = ReplayBuffer(10_000, VecTransposeImage.transpose_space(env.observation_space), env.action_space, device=device)\n",
    "\n",
    "for episode in range(10):\n",
    "    done = False\n",
    "    obs = VecTransposeImage.transpose_image(env.reset())\n",
    "    while not done:\n",
    "        action = np.array(env.action_space.sample())\n",
    "        next_obs, reward, done, info = env.step(action)\n",
    "        next_obs = VecTransposeImage.transpose_image(next_obs)\n",
    "        buffer.add(obs, next_obs, action, reward, done, [info])\n",
    "        obs = next_obs"
   ]
  },
  {
   "cell_type": "markdown",
   "metadata": {},
   "source": [
    "Instanciate the model and the optimizer."
   ]
  },
  {
   "cell_type": "code",
   "execution_count": 6,
   "metadata": {},
   "outputs": [],
   "source": [
    "from lge.inverse_model import ConvInverseModel\n",
    "\n",
    "from torch import optim\n",
    "\n",
    "inverse_model = ConvInverseModel(action_size=env.action_space.n, latent_size=32)\n",
    "optimizer = optim.Adam(inverse_model.parameters(), lr=1e-3)"
   ]
  },
  {
   "cell_type": "markdown",
   "metadata": {},
   "source": [
    "Train the model."
   ]
  },
  {
   "cell_type": "code",
   "execution_count": 7,
   "metadata": {},
   "outputs": [
    {
     "name": "stdout",
     "output_type": "stream",
     "text": [
      "6740\n"
     ]
    }
   ],
   "source": [
    "print(buffer.pos)"
   ]
  },
  {
   "cell_type": "code",
   "execution_count": 8,
   "metadata": {},
   "outputs": [
    {
     "name": "stdout",
     "output_type": "stream",
     "text": [
      "epoch:     0\tprediction loss: 2.90148\n",
      "epoch:    50\tprediction loss: 2.89600\n",
      "epoch:   100\tprediction loss: 2.91478\n",
      "epoch:   150\tprediction loss: 2.89523\n",
      "epoch:   200\tprediction loss: 2.85163\n",
      "epoch:   250\tprediction loss: 2.34538\n",
      "epoch:   300\tprediction loss: 2.09546\n",
      "epoch:   350\tprediction loss: 2.04205\n",
      "epoch:   400\tprediction loss: 2.00437\n",
      "epoch:   450\tprediction loss: 1.91180\n"
     ]
    }
   ],
   "source": [
    "import torch.nn.functional as F\n",
    "\n",
    "\n",
    "for epoch in range(500):\n",
    "    # Sample\n",
    "    sample = buffer.sample(32)\n",
    "    observations = sample.observations.float() / 255\n",
    "    next_observations = sample.next_observations.float() / 255\n",
    "    actions = sample.actions\n",
    "\n",
    "    # Compute the output image\n",
    "    inverse_model.train()\n",
    "    pred_actions = inverse_model(observations, next_observations)\n",
    "\n",
    "    # Compute the loss\n",
    "    loss = F.cross_entropy(pred_actions, actions.squeeze())\n",
    "\n",
    "    # Step the optimizer\n",
    "    optimizer.zero_grad()\n",
    "    loss.backward()\n",
    "    optimizer.step()\n",
    "\n",
    "    if epoch % 50 == 0:\n",
    "        print(\"epoch: {:5d}\\tprediction loss: {:.5f}\".format(epoch, loss.item()))"
   ]
  },
  {
   "cell_type": "markdown",
   "metadata": {},
   "source": [
    "See the result for one transition."
   ]
  },
  {
   "cell_type": "code",
   "execution_count": 6,
   "metadata": {},
   "outputs": [
    {
     "ename": "NameError",
     "evalue": "name 'inverse_model' is not defined",
     "output_type": "error",
     "traceback": [
      "\u001b[0;31m---------------------------------------------------------------------------\u001b[0m",
      "\u001b[0;31mNameError\u001b[0m                                 Traceback (most recent call last)",
      "\u001b[1;32m/Users/quentingallouedec/go-explore/notebooks/quantized_inverse_model_atari.ipynb Cell 16'\u001b[0m in \u001b[0;36m<cell line: 10>\u001b[0;34m()\u001b[0m\n\u001b[1;32m      <a href='vscode-notebook-cell:/Users/quentingallouedec/go-explore/notebooks/quantized_inverse_model_atari.ipynb#ch0000015?line=6'>7</a>\u001b[0m actions \u001b[39m=\u001b[39m sample\u001b[39m.\u001b[39mactions\u001b[39m.\u001b[39mitem()\n\u001b[1;32m      <a href='vscode-notebook-cell:/Users/quentingallouedec/go-explore/notebooks/quantized_inverse_model_atari.ipynb#ch0000015?line=8'>9</a>\u001b[0m \u001b[39m# Predict the action\u001b[39;00m\n\u001b[0;32m---> <a href='vscode-notebook-cell:/Users/quentingallouedec/go-explore/notebooks/quantized_inverse_model_atari.ipynb#ch0000015?line=9'>10</a>\u001b[0m inverse_model\u001b[39m.\u001b[39meval()\n\u001b[1;32m     <a href='vscode-notebook-cell:/Users/quentingallouedec/go-explore/notebooks/quantized_inverse_model_atari.ipynb#ch0000015?line=10'>11</a>\u001b[0m pred_actions \u001b[39m=\u001b[39m inverse_model(observations, next_observations)\n\u001b[1;32m     <a href='vscode-notebook-cell:/Users/quentingallouedec/go-explore/notebooks/quantized_inverse_model_atari.ipynb#ch0000015?line=12'>13</a>\u001b[0m \u001b[39m# See the result\u001b[39;00m\n",
      "\u001b[0;31mNameError\u001b[0m: name 'inverse_model' is not defined"
     ]
    }
   ],
   "source": [
    "from lge.utils import ATARI_ACTIONS\n",
    "\n",
    "# Sample one transition\n",
    "sample = buffer.sample(1)\n",
    "observations = sample.observations.float() / 255\n",
    "next_observations = sample.next_observations.float() / 255\n",
    "actions = sample.actions.item()\n",
    "\n",
    "# Predict the action\n",
    "inverse_model.eval()\n",
    "pred_actions = inverse_model(observations, next_observations)\n",
    "\n",
    "# See the result\n",
    "print(\"true action\\t\\t\", ATARI_ACTIONS[actions])\n",
    "print(\"predicted action\\t\", ATARI_ACTIONS[pred_actions.argmax().item()])"
   ]
  }
 ],
 "metadata": {
  "interpreter": {
   "hash": "3b39a0bc9b5701310f2a160ed7999133b9f255677497bcb14f5070dce9169775"
  },
  "kernelspec": {
   "display_name": "Python 3.8.12 ('env': venv)",
   "language": "python",
   "name": "python3"
  },
  "language_info": {
   "codemirror_mode": {
    "name": "ipython",
    "version": 3
   },
   "file_extension": ".py",
   "mimetype": "text/x-python",
   "name": "python",
   "nbconvert_exporter": "python",
   "pygments_lexer": "ipython3",
   "version": "3.8.12"
  },
  "orig_nbformat": 4
 },
 "nbformat": 4,
 "nbformat_minor": 2
}
