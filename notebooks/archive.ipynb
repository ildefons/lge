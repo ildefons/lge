{
 "cells": [
  {
   "cell_type": "markdown",
   "metadata": {},
   "source": [
    "# Archive buffer"
   ]
  },
  {
   "cell_type": "markdown",
   "metadata": {},
   "source": [
    "Define the spaces and the cell factory."
   ]
  },
  {
   "cell_type": "code",
   "execution_count": 1,
   "metadata": {},
   "outputs": [],
   "source": [
    "from lge.inverse_model import LinearInverseModel\n",
    "from lge.go_explore import Goalify\n",
    "import gym\n",
    "\n",
    "env = gym.make(\"MountainCar-v0\")\n",
    "obs_space = env.observation_space\n",
    "env = Goalify(env)\n",
    "inverse_model = LinearInverseModel(obs_space.shape[0], action_size=env.action_space.n, latent_size=3)"
   ]
  },
  {
   "cell_type": "markdown",
   "metadata": {},
   "source": [
    "Define the buffer."
   ]
  },
  {
   "cell_type": "code",
   "execution_count": 2,
   "metadata": {},
   "outputs": [],
   "source": [
    "from lge.archive import ArchiveBuffer\n",
    "\n",
    "archive = ArchiveBuffer(\n",
    "    buffer_size=100,\n",
    "    observation_space=env.observation_space,\n",
    "    action_space=env.action_space,\n",
    "    env=env,\n",
    "    inverse_model=inverse_model,\n",
    "    n_envs=2,\n",
    ")"
   ]
  },
  {
   "cell_type": "markdown",
   "metadata": {},
   "source": [
    "Feed the buffer."
   ]
  },
  {
   "cell_type": "code",
   "execution_count": 3,
   "metadata": {},
   "outputs": [],
   "source": [
    "import numpy as np\n",
    "\n",
    "trajectories = np.array(\n",
    "    [\n",
    "        [[0, 0], [0, 1], [0, 2], [0, 3], [0, 4], [0, 5], [0, 6]],\n",
    "        [[0, 0], [1, 0], [1, 1], [1, 2], [1, 3], [0, 3], [0, 4]],\n",
    "    ]\n",
    ")\n",
    "goals = np.array(\n",
    "    [\n",
    "        [[0, 0], [0, 0], [0, 0], [0, 0], [0, 0], [0, 0], [0, 0]],\n",
    "        [[0, 0], [0, 0], [0, 0], [0, 0], [0, 0], [0, 0], [0, 0]],\n",
    "    ]\n",
    ")\n",
    "\n",
    "observations = [\n",
    "    {\n",
    "        \"observation\": trajectories[:, i],\n",
    "        \"goal\": goals[:, i],\n",
    "    }\n",
    "    for i in range(7)\n",
    "]"
   ]
  },
  {
   "cell_type": "code",
   "execution_count": 4,
   "metadata": {},
   "outputs": [],
   "source": [
    "for i in range(6):\n",
    "    archive.add(\n",
    "        obs=observations[i],\n",
    "        next_obs=observations[i + 1],\n",
    "        action=np.array([[0], [0]]),\n",
    "        reward=np.array([0, 0]),\n",
    "        done=np.ones(2) * (i == 5),\n",
    "        infos=[{}, {}],\n",
    "    )"
   ]
  },
  {
   "cell_type": "code",
   "execution_count": 5,
   "metadata": {},
   "outputs": [],
   "source": [
    "archive.recompute_embeddings()"
   ]
  },
  {
   "cell_type": "markdown",
   "metadata": {},
   "source": [
    "Try sampling trajectory method."
   ]
  },
  {
   "cell_type": "code",
   "execution_count": 6,
   "metadata": {},
   "outputs": [
    {
     "data": {
      "text/plain": [
       "(array([[0., 1.],\n",
       "        [0., 2.],\n",
       "        [0., 3.],\n",
       "        [0., 4.],\n",
       "        [0., 5.]], dtype=float32),\n",
       " array([[-0.9225087 ,  0.2057623 , -0.17049775],\n",
       "        [-1.4706639 ,  0.3912635 , -0.16262755],\n",
       "        [-2.0073988 ,  0.58207   , -0.14170998],\n",
       "        [-2.5441337 ,  0.7728765 , -0.12079245],\n",
       "        [-3.0808685 ,  0.963683  , -0.09987494]], dtype=float32))"
      ]
     },
     "execution_count": 6,
     "metadata": {},
     "output_type": "execute_result"
    }
   ],
   "source": [
    "archive.sample_trajectory()"
   ]
  },
  {
   "cell_type": "markdown",
   "metadata": {},
   "source": [
    "Here is the set of possible trajectories."
   ]
  },
  {
   "cell_type": "code",
   "execution_count": 7,
   "metadata": {},
   "outputs": [],
   "source": [
    "possible_trajectories = [\n",
    "    [[0, 1]],\n",
    "    [[0, 1], [0, 2]],\n",
    "    [[0, 1], [0, 2], [0, 3]],\n",
    "    [[0, 1], [0, 2], [0, 3], [0, 4]],\n",
    "    [[0, 1], [0, 2], [0, 3], [0, 4], [0, 5]],\n",
    "    [[0, 1], [0, 2], [0, 3], [0, 4], [0, 5], [0, 6]],\n",
    "    [[1, 0]],\n",
    "    [[1, 0], [1, 1]],\n",
    "    [[1, 0], [1, 1], [1, 2]],\n",
    "    [[1, 0], [1, 1], [1, 2], [1, 3]],\n",
    "    [[1, 0], [1, 1], [1, 2], [1, 3], [0, 3]],\n",
    "    [[1, 0], [1, 1], [1, 2], [1, 3], [0, 3], [0, 4]],\n",
    "]"
   ]
  },
  {
   "cell_type": "markdown",
   "metadata": {},
   "source": [
    "Check that all possible trajectories are sampled.\n",
    "Also check that all sampled trajectories are possible."
   ]
  },
  {
   "cell_type": "code",
   "execution_count": 8,
   "metadata": {},
   "outputs": [
    {
     "data": {
      "text/plain": [
       "[True, True, True, True, True, True, True, True, True, True, True, True]"
      ]
     },
     "execution_count": 8,
     "metadata": {},
     "output_type": "execute_result"
    }
   ],
   "source": [
    "sampled_trajectories = [archive.sample_trajectory()[0].astype(int).tolist() for _ in range(50)]  # list convinient to compare\n",
    "\n",
    "assert np.all([trajectory in possible_trajectories for trajectory in sampled_trajectories])\n",
    "assert np.all([trajectory in sampled_trajectories for trajectory in possible_trajectories])"
   ]
  },
  {
   "cell_type": "markdown",
   "metadata": {},
   "source": [
    "Do the same with observation step at 2."
   ]
  },
  {
   "cell_type": "code",
   "execution_count": 10,
   "metadata": {},
   "outputs": [],
   "source": [
    "possible_trajectories = [\n",
    "    [[0, 1]],\n",
    "    [[0, 2]],\n",
    "    [[0, 1], [0, 3]],\n",
    "    [[0, 2], [0, 4]],\n",
    "    [[0, 1], [0, 3], [0, 5]],\n",
    "    [[0, 2], [0, 4], [0, 6]],\n",
    "    [[1, 0]],\n",
    "    [[1, 1]],\n",
    "    [[1, 0], [1, 2]],\n",
    "    [[1, 1], [1, 3]],\n",
    "    [[1, 0], [1, 2], [0, 3]],\n",
    "    [[1, 1], [1, 3], [0, 4]],\n",
    "]\n",
    "sampled_trajectories = [archive.sample_trajectory(step=2)[0].astype(int).tolist() for _ in range(50)]\n",
    "\n",
    "assert np.all([trajectory in possible_trajectories for trajectory in sampled_trajectories])\n",
    "assert np.all([trajectory in sampled_trajectories for trajectory in possible_trajectories])"
   ]
  }
 ],
 "metadata": {
  "kernelspec": {
   "display_name": "Python 3.8.12 ('env': venv)",
   "language": "python",
   "name": "python3"
  },
  "language_info": {
   "codemirror_mode": {
    "name": "ipython",
    "version": 3
   },
   "file_extension": ".py",
   "mimetype": "text/x-python",
   "name": "python",
   "nbconvert_exporter": "python",
   "pygments_lexer": "ipython3",
   "version": "3.8.12"
  },
  "orig_nbformat": 4,
  "vscode": {
   "interpreter": {
    "hash": "3b39a0bc9b5701310f2a160ed7999133b9f255677497bcb14f5070dce9169775"
   }
  }
 },
 "nbformat": 4,
 "nbformat_minor": 2
}
