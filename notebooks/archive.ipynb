{
 "cells": [
  {
   "cell_type": "markdown",
   "metadata": {},
   "source": [
    "# Archive buffer"
   ]
  },
  {
   "cell_type": "markdown",
   "metadata": {},
   "source": [
    "Define the spaces and the cell factory."
   ]
  },
  {
   "cell_type": "code",
   "execution_count": 32,
   "metadata": {},
   "outputs": [],
   "source": [
    "from gym import spaces\n",
    "from go_explore.cells import CellIsObs\n",
    "\n",
    "obs_space = spaces.Box(0, 10, (2,))\n",
    "observation_space = spaces.Dict({\"observation\": obs_space, \"goal\": obs_space, \"cell\": obs_space, \"goal_cell\": obs_space})\n",
    "action_space = spaces.Box(0, 0, (1,))\n",
    "\n",
    "cell_factory = CellIsObs(obs_space)\n"
   ]
  },
  {
   "cell_type": "markdown",
   "metadata": {},
   "source": [
    "Define the buffer."
   ]
  },
  {
   "cell_type": "code",
   "execution_count": 33,
   "metadata": {},
   "outputs": [],
   "source": [
    "from go_explore.archive import ArchiveBuffer\n",
    "\n",
    "archive = ArchiveBuffer(\n",
    "    buffer_size=100,\n",
    "    observation_space=observation_space,\n",
    "    action_space=action_space,\n",
    "    cell_factory=cell_factory,\n",
    "    n_envs=2,\n",
    ")\n"
   ]
  },
  {
   "cell_type": "markdown",
   "metadata": {},
   "source": [
    "Feed the buffer."
   ]
  },
  {
   "cell_type": "code",
   "execution_count": 34,
   "metadata": {},
   "outputs": [],
   "source": [
    "import numpy as np\n",
    "\n",
    "trajectories = np.array(\n",
    "    [\n",
    "        [[0, 0], [0, 1], [0, 2], [0, 3], [0, 4], [0, 5], [0, 6]],\n",
    "        [[0, 0], [1, 0], [1, 1], [1, 2], [1, 3], [0, 3], [0, 4]],\n",
    "    ]\n",
    ")\n",
    "goals = np.array(\n",
    "    [\n",
    "        [[0, 0], [0, 0], [0, 0], [0, 0], [0, 0], [0, 0], [0, 0]],\n",
    "        [[0, 0], [0, 0], [0, 0], [0, 0], [0, 0], [0, 0], [0, 0]],\n",
    "    ]\n",
    ")\n",
    "cell_trajectory = cell_factory(trajectories)\n",
    "goal_cell_trajectory = cell_factory(goals)\n",
    "observations = [\n",
    "    {\n",
    "        \"observation\": trajectories[:, i],\n",
    "        \"goal\": goals[:, i],\n",
    "        \"cell\": cell_trajectory[:, i],\n",
    "        \"goal_cell\": goal_cell_trajectory[:, i],\n",
    "    }\n",
    "    for i in range(7)\n",
    "]\n"
   ]
  },
  {
   "cell_type": "code",
   "execution_count": 35,
   "metadata": {},
   "outputs": [],
   "source": [
    "for i in range(6):\n",
    "    archive.add(\n",
    "        obs=observations[i],\n",
    "        next_obs=observations[i + 1],\n",
    "        action=np.array([[0], [0]]),\n",
    "        reward=np.array([0, 0]),\n",
    "        done=np.ones(2) * (i == 5),\n",
    "        infos=[{}, {}],\n",
    "    )\n"
   ]
  },
  {
   "cell_type": "markdown",
   "metadata": {},
   "source": [
    "Try sampling trajectory method."
   ]
  },
  {
   "cell_type": "code",
   "execution_count": 44,
   "metadata": {},
   "outputs": [
    {
     "data": {
      "text/plain": [
       "(array([[0., 1.],\n",
       "        [0., 2.],\n",
       "        [0., 4.],\n",
       "        [0., 6.]], dtype=float32),\n",
       " array([[0., 0.],\n",
       "        [0., 2.],\n",
       "        [0., 4.],\n",
       "        [0., 6.]], dtype=float32))"
      ]
     },
     "execution_count": 44,
     "metadata": {},
     "output_type": "execute_result"
    }
   ],
   "source": [
    "archive.sample_trajectory()"
   ]
  },
  {
   "cell_type": "markdown",
   "metadata": {},
   "source": [
    "Here is the set of possible trajectories."
   ]
  },
  {
   "cell_type": "code",
   "execution_count": 37,
   "metadata": {},
   "outputs": [],
   "source": [
    "possible_trajectories = [\n",
    "    [[0, 1]],\n",
    "    [[0, 1], [0, 2]],\n",
    "    [[0, 1], [0, 2], [0, 3]],\n",
    "    [[0, 1], [0, 2], [0, 3], [0, 4]],\n",
    "    [[0, 1], [0, 2], [0, 3], [0, 4], [0, 5]],\n",
    "    [[0, 1], [0, 2], [0, 3], [0, 4], [0, 5], [0, 6]],\n",
    "    [[1, 0]],\n",
    "    [[1, 0], [1, 1]],\n",
    "    [[1, 0], [1, 1], [1, 2]],\n",
    "    [[1, 0], [1, 1], [1, 2], [1, 3]],\n",
    "    # [[1, 0], [1, 1], [1, 2], [1, 3], [0, 3]],\n",
    "    # [[1, 0], [1, 1], [1, 2], [1, 3], [0, 3], [0, 4]],\n",
    "    # [[1, 0], [1, 1], [1, 2], [1, 3], [0, 3], [0, 4], [0, 5]],\n",
    "]\n"
   ]
  },
  {
   "cell_type": "markdown",
   "metadata": {},
   "source": [
    "Check that all possible trajectories are sampled.\n",
    "Also check that all sampled trajectories are possible."
   ]
  },
  {
   "cell_type": "code",
   "execution_count": 38,
   "metadata": {},
   "outputs": [
    {
     "ename": "AssertionError",
     "evalue": "",
     "output_type": "error",
     "traceback": [
      "\u001b[0;31m---------------------------------------------------------------------------\u001b[0m",
      "\u001b[0;31mAssertionError\u001b[0m                            Traceback (most recent call last)",
      "\u001b[1;32m/home/qgallouedec/go-explore/notebooks/archive.ipynb Cell 14'\u001b[0m in \u001b[0;36m<cell line: 3>\u001b[0;34m()\u001b[0m\n\u001b[1;32m      <a href='vscode-notebook-cell:/home/qgallouedec/go-explore/notebooks/archive.ipynb#ch0000013?line=0'>1</a>\u001b[0m sampled_trajectories \u001b[39m=\u001b[39m [archive\u001b[39m.\u001b[39msample_trajectory()[\u001b[39m0\u001b[39m]\u001b[39m.\u001b[39mastype(\u001b[39mint\u001b[39m)\u001b[39m.\u001b[39mtolist() \u001b[39mfor\u001b[39;00m _ \u001b[39min\u001b[39;00m \u001b[39mrange\u001b[39m(\u001b[39m30\u001b[39m)]  \u001b[39m# list convinient to compare\u001b[39;00m\n\u001b[0;32m----> <a href='vscode-notebook-cell:/home/qgallouedec/go-explore/notebooks/archive.ipynb#ch0000013?line=2'>3</a>\u001b[0m \u001b[39massert\u001b[39;00m np\u001b[39m.\u001b[39mall([trajectory \u001b[39min\u001b[39;00m possible_trajectories \u001b[39mfor\u001b[39;00m trajectory \u001b[39min\u001b[39;00m sampled_trajectories])\n\u001b[1;32m      <a href='vscode-notebook-cell:/home/qgallouedec/go-explore/notebooks/archive.ipynb#ch0000013?line=3'>4</a>\u001b[0m \u001b[39massert\u001b[39;00m np\u001b[39m.\u001b[39mall([trajectory \u001b[39min\u001b[39;00m sampled_trajectories \u001b[39mfor\u001b[39;00m trajectory \u001b[39min\u001b[39;00m possible_trajectories])\n",
      "\u001b[0;31mAssertionError\u001b[0m: "
     ]
    }
   ],
   "source": [
    "sampled_trajectories = [archive.sample_trajectory()[0].astype(int).tolist() for _ in range(30)]  # list convinient to compare\n",
    "\n",
    "assert np.all([trajectory in possible_trajectories for trajectory in sampled_trajectories])\n",
    "assert np.all([trajectory in sampled_trajectories for trajectory in possible_trajectories])\n"
   ]
  }
 ],
 "metadata": {
  "interpreter": {
   "hash": "f48e9823b73d61fb1e9f2e586933b91323c7e489dd89b69b8ad5cbedc4bff826"
  },
  "kernelspec": {
   "display_name": "Python 3.8.10 ('env': venv)",
   "language": "python",
   "name": "python3"
  },
  "language_info": {
   "codemirror_mode": {
    "name": "ipython",
    "version": 3
   },
   "file_extension": ".py",
   "mimetype": "text/x-python",
   "name": "python",
   "nbconvert_exporter": "python",
   "pygments_lexer": "ipython3",
   "version": "3.8.10"
  },
  "orig_nbformat": 4
 },
 "nbformat": 4,
 "nbformat_minor": 2
}
