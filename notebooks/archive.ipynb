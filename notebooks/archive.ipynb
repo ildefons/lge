{
 "cells": [
  {
   "cell_type": "markdown",
   "metadata": {},
   "source": [
    "# Archive buffer"
   ]
  },
  {
   "cell_type": "markdown",
   "metadata": {},
   "source": [
    "Define the spaces and the cell factory."
   ]
  },
  {
   "cell_type": "code",
   "execution_count": 1,
   "metadata": {},
   "outputs": [
    {
     "name": "stderr",
     "output_type": "stream",
     "text": [
      "/Users/quentingallouedec/go-explore/env/lib/python3.9/site-packages/tqdm/auto.py:22: TqdmWarning: IProgress not found. Please update jupyter and ipywidgets. See https://ipywidgets.readthedocs.io/en/stable/user_install.html\n",
      "  from .autonotebook import tqdm as notebook_tqdm\n"
     ]
    }
   ],
   "source": [
    "from lge.inverse_model import LinearInverseModel\n",
    "from lge.lge import Goalify\n",
    "import gym\n",
    "\n",
    "env = gym.make(\"MountainCar-v0\")\n",
    "obs_space = env.observation_space\n",
    "env = Goalify(env)\n",
    "inverse_model = LinearInverseModel(obs_space.shape[0], action_size=env.action_space.n, latent_size=3)"
   ]
  },
  {
   "cell_type": "markdown",
   "metadata": {},
   "source": [
    "Define the buffer."
   ]
  },
  {
   "cell_type": "code",
   "execution_count": 2,
   "metadata": {},
   "outputs": [],
   "source": [
    "from lge.archive import ArchiveBuffer\n",
    "\n",
    "archive = ArchiveBuffer(\n",
    "    buffer_size=100,\n",
    "    observation_space=env.observation_space,\n",
    "    action_space=env.action_space,\n",
    "    env=env,\n",
    "    inverse_model=inverse_model,\n",
    "    n_envs=2,\n",
    ")"
   ]
  },
  {
   "cell_type": "markdown",
   "metadata": {},
   "source": [
    "Feed the buffer."
   ]
  },
  {
   "cell_type": "code",
   "execution_count": 3,
   "metadata": {},
   "outputs": [],
   "source": [
    "import numpy as np\n",
    "\n",
    "trajectories = np.array(\n",
    "    [\n",
    "        [[0, 0], [0, 1], [0, 2], [0, 3], [0, 4], [0, 5], [0, 6]],\n",
    "        [[0, 0], [1, 0], [1, 1], [1, 2], [1, 3], [0, 3], [0, 4]],\n",
    "    ]\n",
    ")\n",
    "goals = np.array(\n",
    "    [\n",
    "        [[0, 0], [0, 0], [0, 0], [0, 0], [0, 0], [0, 0], [0, 0]],\n",
    "        [[0, 0], [0, 0], [0, 0], [0, 0], [0, 0], [0, 0], [0, 0]],\n",
    "    ]\n",
    ")\n",
    "\n",
    "observations = [\n",
    "    {\n",
    "        \"observation\": trajectories[:, i],\n",
    "        \"goal\": goals[:, i],\n",
    "    }\n",
    "    for i in range(7)\n",
    "]"
   ]
  },
  {
   "cell_type": "code",
   "execution_count": 4,
   "metadata": {},
   "outputs": [],
   "source": [
    "for i in range(6):\n",
    "    archive.add(\n",
    "        obs=observations[i],\n",
    "        next_obs=observations[i + 1],\n",
    "        action=np.array([[0], [0]]),\n",
    "        reward=np.array([0, 0]),\n",
    "        done=np.ones(2) * (i == 5),\n",
    "        infos=[{}, {}],\n",
    "    )"
   ]
  },
  {
   "cell_type": "code",
   "execution_count": 5,
   "metadata": {},
   "outputs": [],
   "source": [
    "archive.recompute_embeddings()"
   ]
  },
  {
   "cell_type": "markdown",
   "metadata": {},
   "source": [
    "Try sampling trajectory method."
   ]
  },
  {
   "cell_type": "code",
   "execution_count": 8,
   "metadata": {},
   "outputs": [
    {
     "data": {
      "text/plain": [
       "(array([[1., 0.],\n",
       "        [1., 1.],\n",
       "        [1., 2.],\n",
       "        [1., 3.],\n",
       "        [0., 3.],\n",
       "        [0., 4.]], dtype=float32),\n",
       " array([[-0.1387454 , -0.14939746,  0.1059842 ],\n",
       "        [-0.13670576, -0.08426183, -0.17365006],\n",
       "        [ 0.00555937,  0.04832681, -0.4408881 ],\n",
       "        [ 0.14233607,  0.2249403 , -0.73950565],\n",
       "        [ 0.47609112,  0.58911467, -0.87302464],\n",
       "        [ 0.6128677 ,  0.76572806, -1.1716421 ]], dtype=float32))"
      ]
     },
     "execution_count": 8,
     "metadata": {},
     "output_type": "execute_result"
    }
   ],
   "source": [
    "archive.sample_trajectory()"
   ]
  },
  {
   "cell_type": "markdown",
   "metadata": {},
   "source": [
    "Here is the set of possible trajectories."
   ]
  },
  {
   "cell_type": "code",
   "execution_count": 9,
   "metadata": {},
   "outputs": [],
   "source": [
    "possible_trajectories = [\n",
    "    [[0, 1]],\n",
    "    [[0, 1], [0, 2]],\n",
    "    [[0, 1], [0, 2], [0, 3]],\n",
    "    [[0, 1], [0, 2], [0, 3], [0, 4]],\n",
    "    [[0, 1], [0, 2], [0, 3], [0, 4], [0, 5]],\n",
    "    [[0, 1], [0, 2], [0, 3], [0, 4], [0, 5], [0, 6]],\n",
    "    [[1, 0]],\n",
    "    [[1, 0], [1, 1]],\n",
    "    [[1, 0], [1, 1], [1, 2]],\n",
    "    [[1, 0], [1, 1], [1, 2], [1, 3]],\n",
    "    [[1, 0], [1, 1], [1, 2], [1, 3], [0, 3]],\n",
    "    [[1, 0], [1, 1], [1, 2], [1, 3], [0, 3], [0, 4]],\n",
    "]"
   ]
  },
  {
   "cell_type": "markdown",
   "metadata": {},
   "source": [
    "Check that all possible trajectories are sampled.\n",
    "Also check that all sampled trajectories are possible."
   ]
  },
  {
   "cell_type": "code",
   "execution_count": 16,
   "metadata": {},
   "outputs": [
    {
     "ename": "AssertionError",
     "evalue": "",
     "output_type": "error",
     "traceback": [
      "\u001b[0;31m---------------------------------------------------------------------------\u001b[0m",
      "\u001b[0;31mAssertionError\u001b[0m                            Traceback (most recent call last)",
      "\u001b[1;32m/Users/quentingallouedec/go-explore/notebooks/archive.ipynb Cell 15'\u001b[0m in \u001b[0;36m<cell line: 4>\u001b[0;34m()\u001b[0m\n\u001b[1;32m      <a href='vscode-notebook-cell:/Users/quentingallouedec/go-explore/notebooks/archive.ipynb#ch0000014?line=0'>1</a>\u001b[0m sampled_trajectories \u001b[39m=\u001b[39m [archive\u001b[39m.\u001b[39msample_trajectory()[\u001b[39m0\u001b[39m]\u001b[39m.\u001b[39mastype(\u001b[39mint\u001b[39m)\u001b[39m.\u001b[39mtolist() \u001b[39mfor\u001b[39;00m _ \u001b[39min\u001b[39;00m \u001b[39mrange\u001b[39m(\u001b[39m50\u001b[39m)]  \u001b[39m# list convinient to compare\u001b[39;00m\n\u001b[1;32m      <a href='vscode-notebook-cell:/Users/quentingallouedec/go-explore/notebooks/archive.ipynb#ch0000014?line=2'>3</a>\u001b[0m \u001b[39massert\u001b[39;00m np\u001b[39m.\u001b[39mall([trajectory \u001b[39min\u001b[39;00m possible_trajectories \u001b[39mfor\u001b[39;00m trajectory \u001b[39min\u001b[39;00m sampled_trajectories])\n\u001b[0;32m----> <a href='vscode-notebook-cell:/Users/quentingallouedec/go-explore/notebooks/archive.ipynb#ch0000014?line=3'>4</a>\u001b[0m \u001b[39massert\u001b[39;00m np\u001b[39m.\u001b[39mall([trajectory \u001b[39min\u001b[39;00m sampled_trajectories \u001b[39mfor\u001b[39;00m trajectory \u001b[39min\u001b[39;00m possible_trajectories])\n",
      "\u001b[0;31mAssertionError\u001b[0m: "
     ]
    }
   ],
   "source": [
    "sampled_trajectories = [archive.sample_trajectory()[0].astype(int).tolist() for _ in range(100)]  # list convinient to compare\n",
    "\n",
    "assert np.all([trajectory in possible_trajectories for trajectory in sampled_trajectories])\n",
    "assert np.all([trajectory in sampled_trajectories for trajectory in possible_trajectories])"
   ]
  },
  {
   "cell_type": "markdown",
   "metadata": {},
   "source": [
    "Do the same with observation step at 2."
   ]
  },
  {
   "cell_type": "code",
   "execution_count": 24,
   "metadata": {},
   "outputs": [],
   "source": [
    "possible_trajectories = [\n",
    "    [[0, 1]],\n",
    "    [[0, 2]],\n",
    "    [[0, 1], [0, 3]],\n",
    "    [[0, 2], [0, 4]],\n",
    "    [[0, 1], [0, 3], [0, 5]],\n",
    "    [[0, 2], [0, 4], [0, 6]],\n",
    "    [[1, 0]],\n",
    "    [[1, 1]],\n",
    "    [[1, 0], [1, 2]],\n",
    "    [[1, 1], [1, 3]],\n",
    "    [[1, 0], [1, 2], [0, 3]],\n",
    "    [[1, 1], [1, 3], [0, 4]],\n",
    "]\n",
    "sampled_trajectories = [archive.sample_trajectory(step=2)[0].astype(int).tolist() for _ in range(50)]\n",
    "\n",
    "assert np.all([trajectory in possible_trajectories for trajectory in sampled_trajectories])\n",
    "assert np.all([trajectory in sampled_trajectories for trajectory in possible_trajectories])"
   ]
  }
 ],
 "metadata": {
  "kernelspec": {
   "display_name": "Python 3.8.12 ('env': venv)",
   "language": "python",
   "name": "python3"
  },
  "language_info": {
   "codemirror_mode": {
    "name": "ipython",
    "version": 3
   },
   "file_extension": ".py",
   "mimetype": "text/x-python",
   "name": "python",
   "nbconvert_exporter": "python",
   "pygments_lexer": "ipython3",
   "version": "3.9.13"
  },
  "orig_nbformat": 4,
  "vscode": {
   "interpreter": {
    "hash": "3b39a0bc9b5701310f2a160ed7999133b9f255677497bcb14f5070dce9169775"
   }
  }
 },
 "nbformat": 4,
 "nbformat_minor": 2
}
