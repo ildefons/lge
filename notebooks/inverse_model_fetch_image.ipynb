{
 "cells": [
  {
   "cell_type": "markdown",
   "metadata": {},
   "source": [
    "# Inverse model on FetchNoTask\n",
    "\n",
    "## Instanciate and train the model"
   ]
  },
  {
   "cell_type": "markdown",
   "metadata": {},
   "source": [
    "Create the environment."
   ]
  },
  {
   "cell_type": "code",
   "execution_count": 17,
   "metadata": {},
   "outputs": [],
   "source": [
    "import gym\n",
    "import gym_robotics\n",
    "from stable_baselines3.common.env_util import make_vec_env\n",
    "from stable_baselines3.common.vec_env import VecTransposeImage\n",
    "\n",
    "env = VecTransposeImage(\n",
    "    make_vec_env(\n",
    "        \"__root__/FetchNoTask-v1\",\n",
    "        env_kwargs=dict(image_obs_space=True),\n",
    "    )\n",
    ")"
   ]
  },
  {
   "cell_type": "markdown",
   "metadata": {},
   "source": [
    "Initilize the device."
   ]
  },
  {
   "cell_type": "code",
   "execution_count": 18,
   "metadata": {},
   "outputs": [],
   "source": [
    "import torch\n",
    "\n",
    "device = \"cuda\" if torch.cuda.is_available() else \"cpu\""
   ]
  },
  {
   "cell_type": "markdown",
   "metadata": {},
   "source": [
    "Create a buffer and feed it."
   ]
  },
  {
   "cell_type": "code",
   "execution_count": 19,
   "metadata": {},
   "outputs": [],
   "source": [
    "import numpy as np\n",
    "from stable_baselines3.common.buffers import ReplayBuffer\n",
    "\n",
    "from copy import deepcopy\n",
    "\n",
    "\n",
    "def collect_rollouts(n, env, replay_buffer):\n",
    "    num_timesteps = 0\n",
    "    last_obs = env.reset()\n",
    "\n",
    "    while num_timesteps < n:\n",
    "        # Select action randomly or according to policy\n",
    "        actions = np.array([env.action_space.sample()])\n",
    "\n",
    "        # Rescale and perform action\n",
    "        new_obs, rewards, dones, infos = env.step(actions)\n",
    "\n",
    "        num_timesteps += env.num_envs\n",
    "        # Avoid modification by reference\n",
    "        next_obs = deepcopy(new_obs)\n",
    "\n",
    "        # As the VecEnv resets automatically, new_obs is already the\n",
    "        # first observation of the next episode\n",
    "        for i, done in enumerate(dones):\n",
    "            if done and infos[i].get(\"terminal_observation\") is not None:\n",
    "                next_obs[i] = infos[i][\"terminal_observation\"]\n",
    "\n",
    "        replay_buffer.add(\n",
    "            last_obs,\n",
    "            next_obs,\n",
    "            actions,\n",
    "            rewards,\n",
    "            dones,\n",
    "            infos,\n",
    "        )\n",
    "\n",
    "        last_obs = new_obs\n",
    "\n",
    "\n",
    "train_buffer = ReplayBuffer(\n",
    "    10_000,\n",
    "    env.observation_space,\n",
    "    env.action_space,\n",
    "    device=device,\n",
    ")\n",
    "test_buffer = ReplayBuffer(\n",
    "    1_000,\n",
    "    env.observation_space,\n",
    "    env.action_space,\n",
    "    device=device,\n",
    ")\n",
    "\n",
    "collect_rollouts(10_000, env, train_buffer)\n",
    "collect_rollouts(1_000, env, test_buffer)"
   ]
  },
  {
   "cell_type": "code",
   "execution_count": 20,
   "metadata": {},
   "outputs": [
    {
     "data": {
      "text/plain": [
       "0"
      ]
     },
     "execution_count": 20,
     "metadata": {},
     "output_type": "execute_result"
    }
   ],
   "source": [
    "train_buffer.pos"
   ]
  },
  {
   "cell_type": "markdown",
   "metadata": {},
   "source": [
    "Instanciate the model and the optimizer."
   ]
  },
  {
   "cell_type": "code",
   "execution_count": 21,
   "metadata": {},
   "outputs": [],
   "source": [
    "from lge.inverse_model import ConvInverseModel\n",
    "\n",
    "from torch import optim\n",
    "\n",
    "inverse_model = ConvInverseModel(action_size=env.action_space.shape[0], latent_size=64).to(device)\n",
    "optimizer = optim.Adam(inverse_model.parameters(), lr=1e-3)"
   ]
  },
  {
   "cell_type": "markdown",
   "metadata": {},
   "source": [
    "Train the model."
   ]
  },
  {
   "cell_type": "code",
   "execution_count": 22,
   "metadata": {},
   "outputs": [
    {
     "name": "stdout",
     "output_type": "stream",
     "text": [
      "epoch:     0\tprediction loss: train 0.28007, test: 0.37901 \n",
      "epoch:   100\tprediction loss: train 0.32289, test: 0.32507 \n",
      "epoch:   200\tprediction loss: train 0.29163, test: 0.38265 \n",
      "epoch:   300\tprediction loss: train 0.31497, test: 0.33771 \n",
      "epoch:   400\tprediction loss: train 0.25974, test: 0.24013 \n",
      "epoch:   500\tprediction loss: train 0.20154, test: 0.18621 \n",
      "epoch:   600\tprediction loss: train 0.18039, test: 0.15986 \n",
      "epoch:   700\tprediction loss: train 0.19056, test: 0.18834 \n",
      "epoch:   800\tprediction loss: train 0.17010, test: 0.18471 \n",
      "epoch:   900\tprediction loss: train 0.19071, test: 0.16275 \n",
      "epoch:  1000\tprediction loss: train 0.16842, test: 0.15825 \n",
      "epoch:  1100\tprediction loss: train 0.15867, test: 0.20894 \n",
      "epoch:  1200\tprediction loss: train 0.18944, test: 0.17452 \n",
      "epoch:  1300\tprediction loss: train 0.19739, test: 0.17596 \n",
      "epoch:  1400\tprediction loss: train 0.17995, test: 0.20506 \n",
      "epoch:  1500\tprediction loss: train 0.14707, test: 0.21014 \n",
      "epoch:  1600\tprediction loss: train 0.19561, test: 0.16469 \n",
      "epoch:  1700\tprediction loss: train 0.15679, test: 0.17095 \n",
      "epoch:  1800\tprediction loss: train 0.16387, test: 0.15712 \n",
      "epoch:  1900\tprediction loss: train 0.16414, test: 0.19306 \n",
      "epoch:  2000\tprediction loss: train 0.15719, test: 0.18004 \n",
      "epoch:  2100\tprediction loss: train 0.19660, test: 0.16755 \n",
      "epoch:  2200\tprediction loss: train 0.18292, test: 0.18672 \n",
      "epoch:  2300\tprediction loss: train 0.17287, test: 0.14893 \n",
      "epoch:  2400\tprediction loss: train 0.17287, test: 0.17099 \n",
      "epoch:  2500\tprediction loss: train 0.16890, test: 0.18955 \n",
      "epoch:  2600\tprediction loss: train 0.15524, test: 0.13792 \n",
      "epoch:  2700\tprediction loss: train 0.13115, test: 0.17858 \n",
      "epoch:  2800\tprediction loss: train 0.11818, test: 0.10876 \n",
      "epoch:  2900\tprediction loss: train 0.14647, test: 0.12106 \n"
     ]
    }
   ],
   "source": [
    "import torch.nn.functional as F\n",
    "\n",
    "\n",
    "for epoch in range(3_000):\n",
    "    # Sample\n",
    "    sample = train_buffer.sample(32)\n",
    "    observations = sample.observations.float() / 255\n",
    "    next_observations = sample.next_observations.float() / 255\n",
    "    actions = sample.actions\n",
    "\n",
    "    # Compute the output image\n",
    "    inverse_model.train()\n",
    "    pred_actions = inverse_model(observations, next_observations)\n",
    "\n",
    "    # Compute the loss\n",
    "    loss = F.mse_loss(pred_actions, actions)\n",
    "\n",
    "    # Step the optimizer\n",
    "    optimizer.zero_grad()\n",
    "    loss.backward()\n",
    "    optimizer.step()\n",
    "\n",
    "    if epoch % 100 == 0:\n",
    "        sample = test_buffer.sample(32)\n",
    "        observations = sample.observations.float() / 255\n",
    "        next_observations = sample.next_observations.float() / 255\n",
    "        actions = sample.actions\n",
    "\n",
    "        # Compute the output image\n",
    "        inverse_model.eval()\n",
    "        pred_actions = inverse_model(observations, next_observations)\n",
    "        # Compute the loss\n",
    "        test_loss = F.mse_loss(pred_actions, actions)\n",
    "        print(\"epoch: {:5d}\\tprediction loss: train {:.5f}, test: {:.5f} \".format(epoch, loss.item(), test_loss.item()))"
   ]
  },
  {
   "cell_type": "markdown",
   "metadata": {},
   "source": [
    "See the result for one transition."
   ]
  },
  {
   "cell_type": "code",
   "execution_count": 23,
   "metadata": {},
   "outputs": [
    {
     "name": "stdout",
     "output_type": "stream",
     "text": [
      "true action\t\t [-0.65865135 -0.61914843 -0.21977454 -0.4925384 ]\n",
      "predicted action\t [-0.46685636 -0.5837856  -0.22674772 -0.00502674]\n"
     ]
    },
    {
     "data": {
      "image/png": "[encoded data removed]",
      "text/plain": [
       "<PIL.Image.Image image mode=RGB size=168x84>"
      ]
     },
     "metadata": {},
     "output_type": "display_data"
    }
   ],
   "source": [
    "from PIL import Image\n",
    "from IPython.display import display\n",
    "\n",
    "# Sample one transition\n",
    "sample = test_buffer.sample(1)\n",
    "observations = sample.observations.float() / 255\n",
    "next_observations = sample.next_observations.float() / 255\n",
    "actions = sample.actions\n",
    "\n",
    "# Predict the action\n",
    "inverse_model.eval()\n",
    "pred_actions = inverse_model(observations, next_observations)\n",
    "\n",
    "# See the result\n",
    "print(\"true action\\t\\t\", actions.squeeze().detach().cpu().numpy())\n",
    "print(\"predicted action\\t\", pred_actions.squeeze().detach().cpu().numpy())\n",
    "\n",
    "\n",
    "observation = sample.observations.squeeze().moveaxis(0, 2).detach().cpu().numpy()\n",
    "next_observation = sample.next_observations.squeeze().moveaxis(0, 2).detach().cpu().numpy()\n",
    "img = np.hstack((observation, next_observation))\n",
    "img = Image.fromarray(img)\n",
    "display(img)"
   ]
  }
 ],
 "metadata": {
  "kernelspec": {
   "display_name": "Python 3.8.10 ('env': venv)",
   "language": "python",
   "name": "python3"
  },
  "language_info": {
   "codemirror_mode": {
    "name": "ipython",
    "version": 3
   },
   "file_extension": ".py",
   "mimetype": "text/x-python",
   "name": "python",
   "nbconvert_exporter": "python",
   "pygments_lexer": "ipython3",
   "version": "3.8.10"
  },
  "orig_nbformat": 4,
  "vscode": {
   "interpreter": {
    "hash": "f48e9823b73d61fb1e9f2e586933b91323c7e489dd89b69b8ad5cbedc4bff826"
   }
  }
 },
 "nbformat": 4,
 "nbformat_minor": 2
}
