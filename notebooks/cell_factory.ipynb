{
 "cells": [
  {
   "cell_type": "markdown",
   "metadata": {},
   "source": [
    "# Cell factory"
   ]
  },
  {
   "cell_type": "markdown",
   "metadata": {},
   "source": [
    "## Initialization\n",
    "\n",
    "Make the environment."
   ]
  },
  {
   "cell_type": "code",
   "execution_count": 18,
   "metadata": {},
   "outputs": [],
   "source": [
    "import gym\n",
    "\n",
    "env = gym.make(\"MontezumaRevenge-v0\")\n"
   ]
  },
  {
   "cell_type": "markdown",
   "metadata": {},
   "source": [
    "Make the cell factory."
   ]
  },
  {
   "cell_type": "code",
   "execution_count": 19,
   "metadata": {},
   "outputs": [],
   "source": [
    "from go_explore.cells import ImageGrayscaleDownscale\n",
    "\n",
    "cell_factory = ImageGrayscaleDownscale()\n",
    "cell_factory.set_param(height=8, width=8, nb_shades=5)\n"
   ]
  },
  {
   "cell_type": "markdown",
   "metadata": {},
   "source": [
    "## Using cell factory\n",
    "\n",
    "Try with one observation."
   ]
  },
  {
   "cell_type": "code",
   "execution_count": 20,
   "metadata": {},
   "outputs": [
    {
     "name": "stdout",
     "output_type": "stream",
     "text": [
      "tensor([[  0,   0,   0,   0,   0,   0,   0,   0],\n",
      "        [  0,   0,   0,   0,   0,   0,   0,   0],\n",
      "        [  0,   0,   0,   0,   0,   0,   0,   0],\n",
      "        [  0,   0,   0,   0,   0,   0,   0,   0],\n",
      "        [  0,   0,   0,   0,   0,   0,   0,   0],\n",
      "        [102, 102,   0,   0,   0,   0, 102, 102],\n",
      "        [102, 102,   0,   0,   0,   0, 102, 102],\n",
      "        [ 51, 102,  51, 102,  51, 102,  51, 102]], dtype=torch.uint8)\n"
     ]
    }
   ],
   "source": [
    "import torch\n",
    "\n",
    "observation = env.reset()\n",
    "\n",
    "observation = torch.from_numpy(observation)\n",
    "\n",
    "print(cell_factory(observation))\n"
   ]
  },
  {
   "cell_type": "markdown",
   "metadata": {},
   "source": [
    "From many observations."
   ]
  },
  {
   "cell_type": "code",
   "execution_count": 21,
   "metadata": {},
   "outputs": [
    {
     "name": "stdout",
     "output_type": "stream",
     "text": [
      "Observations shape: (10, 210, 160, 3)\n",
      "Cell shape: (10, 8, 8)\n"
     ]
    }
   ],
   "source": [
    "import numpy as np\n",
    "\n",
    "observations = []\n",
    "for _ in range(10):\n",
    "    observations.append(env.step(env.action_space.sample())[0])\n",
    "\n",
    "observations = np.array(observations)\n",
    "print(\"Observations shape:\", observations.shape)\n",
    "print(\"Cell shape:\", cell_factory(observations).shape)\n"
   ]
  },
  {
   "cell_type": "markdown",
   "metadata": {},
   "source": [
    "It also works with torch tensors. When the input is a tensor, then it returns a tensor."
   ]
  },
  {
   "cell_type": "code",
   "execution_count": 23,
   "metadata": {},
   "outputs": [
    {
     "name": "stdout",
     "output_type": "stream",
     "text": [
      "Cell type: <class 'numpy.ndarray'>\n",
      "Cell type: <class 'torch.Tensor'>\n"
     ]
    }
   ],
   "source": [
    "print(\"Cell type:\", type(cell_factory(observations)))\n",
    "th_observations = torch.from_numpy(observations)\n",
    "print(\"Cell type:\", type(cell_factory(th_observations)))"
   ]
  }
 ],
 "metadata": {
  "interpreter": {
   "hash": "3b39a0bc9b5701310f2a160ed7999133b9f255677497bcb14f5070dce9169775"
  },
  "kernelspec": {
   "display_name": "Python 3.8.13 ('env': venv)",
   "language": "python",
   "name": "python3"
  },
  "language_info": {
   "codemirror_mode": {
    "name": "ipython",
    "version": 3
   },
   "file_extension": ".py",
   "mimetype": "text/x-python",
   "name": "python",
   "nbconvert_exporter": "python",
   "pygments_lexer": "ipython3",
   "version": "3.8.10"
  },
  "orig_nbformat": 4
 },
 "nbformat": 4,
 "nbformat_minor": 2
}
