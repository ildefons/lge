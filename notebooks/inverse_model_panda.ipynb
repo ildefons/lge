{
 "cells": [
  {
   "cell_type": "markdown",
   "metadata": {},
   "source": [
    "# Inverse model on FetchNoTask\n",
    "\n",
    "## Instanciate and train the model"
   ]
  },
  {
   "cell_type": "markdown",
   "metadata": {},
   "source": [
    "Create the environment."
   ]
  },
  {
   "cell_type": "code",
   "execution_count": 1,
   "metadata": {},
   "outputs": [
    {
     "name": "stderr",
     "output_type": "stream",
     "text": [
      "pybullet build time: May 20 2022 19:44:17\n"
     ]
    },
    {
     "name": "stdout",
     "output_type": "stream",
     "text": [
      "argv[0]=--background_color_red=0.8745098039215686\n",
      "argv[1]=\n",
      "argv[2]=\n",
      "argv[3]=\n",
      "argv[4]=\n",
      "argv[5]=\n",
      "argv[6]=\n",
      "argv[7]=\n",
      "argv[8]=\n",
      "argv[9]=\n",
      "argv[10]=\n",
      "argv[11]=\n",
      "argv[12]=\n",
      "argv[13]=\n",
      "argv[14]=\n",
      "argv[15]=\n",
      "argv[16]=\n",
      "argv[17]=\n",
      "argv[18]=\n",
      "argv[19]=\n",
      "argv[20]=\n",
      "argv[21]=--background_color_green=0.21176470588235294\n",
      "argv[22]=\n",
      "argv[23]=\n",
      "argv[24]=\n",
      "argv[25]=\n",
      "argv[26]=\n",
      "argv[27]=\n",
      "argv[28]=\n",
      "argv[29]=\n",
      "argv[30]=\n",
      "argv[31]=\n",
      "argv[32]=\n",
      "argv[33]=\n",
      "argv[34]=\n",
      "argv[35]=\n",
      "argv[36]=\n",
      "argv[37]=\n",
      "argv[38]=\n",
      "argv[39]=\n",
      "argv[40]=\n",
      "argv[41]=\n",
      "argv[42]=--background_color_blue=0.17647058823529413\n"
     ]
    }
   ],
   "source": [
    "import gym\n",
    "import panda_gym\n",
    "from stable_baselines3.common.env_util import make_vec_env\n",
    "\n",
    "env = make_vec_env(\"PandaNoTask-v0\", env_kwargs=dict(nb_objects=1))"
   ]
  },
  {
   "cell_type": "markdown",
   "metadata": {},
   "source": [
    "Initilize the device."
   ]
  },
  {
   "cell_type": "code",
   "execution_count": 2,
   "metadata": {},
   "outputs": [],
   "source": [
    "import torch\n",
    "\n",
    "device = \"cuda\" if torch.cuda.is_available() else \"cpu\""
   ]
  },
  {
   "cell_type": "markdown",
   "metadata": {},
   "source": [
    "Create a buffer and feed it."
   ]
  },
  {
   "cell_type": "code",
   "execution_count": 3,
   "metadata": {},
   "outputs": [],
   "source": [
    "import numpy as np\n",
    "from stable_baselines3.common.buffers import ReplayBuffer\n",
    "\n",
    "from copy import deepcopy\n",
    "\n",
    "\n",
    "def collect_rollouts(n, env, replay_buffer):\n",
    "    num_timesteps = 0\n",
    "    last_obs = env.reset()\n",
    "\n",
    "    while num_timesteps < n:\n",
    "        # Select action randomly or according to policy\n",
    "        action = np.array([env.action_space.sample()])\n",
    "\n",
    "        # Rescale and perform action\n",
    "        new_obs, rewards, dones, infos = env.step(action)\n",
    "\n",
    "        num_timesteps += env.num_envs\n",
    "        # Avoid modification by reference\n",
    "        next_obs = deepcopy(new_obs)\n",
    "\n",
    "        # As the VecEnv resets automatically, new_obs is already the\n",
    "        # first observation of the next episode\n",
    "        for i, done in enumerate(dones):\n",
    "            if done and infos[i].get(\"terminal_observation\") is not None:\n",
    "                next_obs[i] = infos[i][\"terminal_observation\"]\n",
    "\n",
    "        replay_buffer.add(\n",
    "            last_obs,\n",
    "            next_obs,\n",
    "            action,\n",
    "            rewards,\n",
    "            dones,\n",
    "            infos,\n",
    "        )\n",
    "\n",
    "        last_obs = new_obs\n",
    "\n",
    "\n",
    "train_buffer = ReplayBuffer(\n",
    "    50_000,\n",
    "    env.observation_space,\n",
    "    env.action_space,\n",
    "    device=device,\n",
    ")\n",
    "test_buffer = ReplayBuffer(\n",
    "    5_000,\n",
    "    env.observation_space,\n",
    "    env.action_space,\n",
    "    device=device,\n",
    ")\n",
    "\n",
    "collect_rollouts(50_000, env, train_buffer)\n",
    "collect_rollouts(5_000, env, test_buffer)"
   ]
  },
  {
   "cell_type": "markdown",
   "metadata": {},
   "source": [
    "Instanciate the model and the optimizer."
   ]
  },
  {
   "cell_type": "code",
   "execution_count": 4,
   "metadata": {},
   "outputs": [],
   "source": [
    "from lge.forward_module import ForwardModule\n",
    "\n",
    "from torch import optim\n",
    "\n",
    "forward_module = ForwardModule(\n",
    "    obs_size=env.observation_space.shape[0], action_size=env.action_space.shape[0], latent_size=16\n",
    ").to(device)\n",
    "optimizer = optim.Adam(forward_module.parameters(), lr=1e-3, weight_decay=1e-5)"
   ]
  },
  {
   "cell_type": "markdown",
   "metadata": {},
   "source": [
    "Train the model."
   ]
  },
  {
   "cell_type": "code",
   "execution_count": 5,
   "metadata": {},
   "outputs": [
    {
     "name": "stdout",
     "output_type": "stream",
     "text": [
      "epoch:     0\tprediction loss: train 0.36822, test: 0.34752 \n",
      "epoch:   100\tprediction loss: train 0.34099, test: 1.50629 \n",
      "epoch:   200\tprediction loss: train 0.42354, test: 0.16362 \n",
      "epoch:   300\tprediction loss: train 0.10280, test: 0.14746 \n",
      "epoch:   400\tprediction loss: train 1.42530, test: 0.28090 \n",
      "epoch:   500\tprediction loss: train 0.63747, test: 0.29658 \n",
      "epoch:   600\tprediction loss: train 0.77303, test: 0.60052 \n",
      "epoch:   700\tprediction loss: train 0.54372, test: 0.20699 \n",
      "epoch:   800\tprediction loss: train 0.32309, test: 0.11342 \n",
      "epoch:   900\tprediction loss: train 0.05732, test: 0.37693 \n",
      "epoch:  1000\tprediction loss: train 0.80530, test: 0.46523 \n",
      "epoch:  1100\tprediction loss: train 0.16026, test: 0.39332 \n",
      "epoch:  1200\tprediction loss: train 0.26740, test: 0.11484 \n",
      "epoch:  1300\tprediction loss: train 0.14969, test: 0.71759 \n",
      "epoch:  1400\tprediction loss: train 0.34662, test: 0.17267 \n",
      "epoch:  1500\tprediction loss: train 0.33708, test: 0.45887 \n",
      "epoch:  1600\tprediction loss: train 0.12337, test: 0.11154 \n",
      "epoch:  1700\tprediction loss: train 0.22023, test: 0.25426 \n",
      "epoch:  1800\tprediction loss: train 1.18214, test: 0.25438 \n",
      "epoch:  1900\tprediction loss: train 0.47513, test: 0.04079 \n",
      "epoch:  2000\tprediction loss: train 0.39497, test: 1.30092 \n",
      "epoch:  2100\tprediction loss: train 0.10820, test: 0.44137 \n",
      "epoch:  2200\tprediction loss: train 0.26683, test: 0.15555 \n",
      "epoch:  2300\tprediction loss: train 0.75734, test: 0.59673 \n",
      "epoch:  2400\tprediction loss: train 0.14277, test: 0.22743 \n",
      "epoch:  2500\tprediction loss: train 0.08631, test: 0.26938 \n",
      "epoch:  2600\tprediction loss: train 1.40705, test: 0.52335 \n",
      "epoch:  2700\tprediction loss: train 0.64816, test: 0.14077 \n",
      "epoch:  2800\tprediction loss: train 0.06206, test: 0.08810 \n",
      "epoch:  2900\tprediction loss: train 0.25015, test: 0.54927 \n"
     ]
    }
   ],
   "source": [
    "import torch.nn.functional as F\n",
    "\n",
    "\n",
    "for epoch in range(3_000):\n",
    "    # Sample\n",
    "    sample = train_buffer.sample(128)\n",
    "    observations = sample.observations.float()\n",
    "    next_observations = sample.next_observations.float()\n",
    "    actions = sample.actions\n",
    "\n",
    "    # Compute the output image\n",
    "    forward_module.train()\n",
    "    pred_next_observation = forward_module(observations, actions)\n",
    "\n",
    "    # Compute the loss\n",
    "    loss = F.mse_loss(pred_next_observation, next_observations)\n",
    "\n",
    "    # Step the optimizer\n",
    "    optimizer.zero_grad()\n",
    "    loss.backward()\n",
    "    optimizer.step()\n",
    "\n",
    "    if epoch % 100 == 0:\n",
    "        sample = test_buffer.sample(128)\n",
    "        observations = sample.observations.float()\n",
    "        next_observations = sample.next_observations.float()\n",
    "        actions = sample.actions\n",
    "\n",
    "        # Compute the output image\n",
    "        forward_module.eval()\n",
    "        pred_next_observation = forward_module(observations, actions)\n",
    "        # Compute the loss\n",
    "        test_loss = F.mse_loss(pred_next_observation, next_observations)\n",
    "        print(\"epoch: {:5d}\\tprediction loss: train {:.5f}, test: {:.5f} \".format(epoch, loss.item(), test_loss.item()))"
   ]
  },
  {
   "cell_type": "markdown",
   "metadata": {},
   "source": [
    "See the result for one transition."
   ]
  },
  {
   "cell_type": "code",
   "execution_count": 8,
   "metadata": {},
   "outputs": [
    {
     "name": "stdout",
     "output_type": "stream",
     "text": [
      "true latent\t\t [ 0.1456874   0.05015915  0.21331604 -0.11159693 -0.05254291 -0.01742656\n",
      "  0.33812153 -0.0670418  -0.11919834 -0.1422996   0.08832265 -0.14834379\n",
      "  0.03850569 -0.09904759 -0.07290893 -0.21651375]\n",
      "predicted latent\t [ 0.00284243 -0.01014193  0.05555608 -0.08629043 -0.5234257  -0.59389305\n",
      "  0.02246137 -0.01211662  0.01474588  0.0254782  -0.0047803   0.05112509\n",
      "  0.00233874 -0.00775038 -0.01152699 -0.01110311 -0.01256416  0.00378686\n",
      "  0.10832126]\n"
     ]
    }
   ],
   "source": [
    "# Sample one transition\n",
    "sample = test_buffer.sample(1)\n",
    "observations = sample.observations.float()\n",
    "next_observations = sample.next_observations.float()\n",
    "actions = sample.actions\n",
    "\n",
    "# Predict the action\n",
    "forward_module.eval()\n",
    "pred_next_latent = forward_module(observations, actions)\n",
    "next_latent = forward_module.encoder(next_observations)\n",
    "\n",
    "# See the result\n",
    "print(\"true latent\\t\\t\", next_latent.squeeze().detach().cpu().numpy())\n",
    "print(\"predicted latent\\t\", pred_next_latent.squeeze().detach().cpu().numpy())"
   ]
  },
  {
   "cell_type": "code",
   "execution_count": 7,
   "metadata": {},
   "outputs": [
    {
     "data": {
      "image/png": "[encoded data removed]",
      "text/plain": [
       "<Figure size 1440x720 with 4 Axes>"
      ]
     },
     "metadata": {
      "needs_background": "light"
     },
     "output_type": "display_data"
    }
   ],
   "source": [
    "import matplotlib.pyplot as plt\n",
    "\n",
    "fig, axs = plt.subplots(2, 2)\n",
    "fig.set_figheight(10)\n",
    "fig.set_figwidth(20)\n",
    "title = \"Object ?\"\n",
    "fig.suptitle(title)\n",
    "\n",
    "observations = test_buffer.next_observations.squeeze(1)\n",
    "embeddings = forward_module.encoder(train_buffer.to_torch(observations)).detach().cpu().numpy()\n",
    "is_origin = np.linalg.norm(observations[..., 7:10] - np.array([0, 0, 0.02]), axis=1) < 0.1\n",
    "\n",
    "color = list(np.where(is_origin, \"b\", \"r\"))\n",
    "for i in range(2):\n",
    "    for j in range(2):\n",
    "        k = 2 * i + j\n",
    "        axs[i, j].grid()\n",
    "        axs[i, j].axis(\"equal\")\n",
    "        axs[i, j].scatter(*embeddings[:, 2 * k : 2 * k + 2].T, c=color)\n",
    "\n",
    "# fig.savefig(title)"
   ]
  }
 ],
 "metadata": {
  "kernelspec": {
   "display_name": "Python 3.8.10 ('env': venv)",
   "language": "python",
   "name": "python3"
  },
  "language_info": {
   "codemirror_mode": {
    "name": "ipython",
    "version": 3
   },
   "file_extension": ".py",
   "mimetype": "text/x-python",
   "name": "python",
   "nbconvert_exporter": "python",
   "pygments_lexer": "ipython3",
   "version": "3.8.10"
  },
  "orig_nbformat": 4,
  "vscode": {
   "interpreter": {
    "hash": "f48e9823b73d61fb1e9f2e586933b91323c7e489dd89b69b8ad5cbedc4bff826"
   }
  }
 },
 "nbformat": 4,
 "nbformat_minor": 2
}
