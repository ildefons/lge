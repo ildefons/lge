{
 "cells": [
  {
   "cell_type": "markdown",
   "metadata": {},
   "source": [
    "## Create the environment, the buffer and the VAE"
   ]
  },
  {
   "cell_type": "markdown",
   "metadata": {},
   "source": [
    "Create environment."
   ]
  },
  {
   "cell_type": "code",
   "execution_count": 1,
   "metadata": {},
   "outputs": [
    {
     "name": "stderr",
     "output_type": "stream",
     "text": [
      "/home/qgallouedec/go-explore/env/lib/python3.8/site-packages/gym/envs/registration.py:505: UserWarning: \u001b[33mWARN: The environment PrivateEye-v4 is out of date. You should consider upgrading to version `v5` with the environment ID `ALE/PrivateEye-v5`.\u001b[0m\n",
      "  logger.warn(\n",
      "A.L.E: Arcade Learning Environment (version 0.7.5+db37282)\n",
      "[Powered by Stella]\n"
     ]
    }
   ],
   "source": [
    "import gym\n",
    "\n",
    "env = gym.make(\"PrivateEye-v4\")\n"
   ]
  },
  {
   "cell_type": "markdown",
   "metadata": {},
   "source": [
    "Choose the device."
   ]
  },
  {
   "cell_type": "code",
   "execution_count": null,
   "metadata": {},
   "outputs": [],
   "source": [
    "import torch\n",
    "\n",
    "device = \"cuda\" if torch.cuda.is_available() else \"cpu\""
   ]
  },
  {
   "cell_type": "markdown",
   "metadata": {},
   "source": [
    "Create a buffer and feed it."
   ]
  },
  {
   "cell_type": "code",
   "execution_count": null,
   "metadata": {},
   "outputs": [],
   "source": [
    "import numpy as np\n",
    "\n",
    "from stable_baselines3.common.buffers import ReplayBuffer\n",
    "\n",
    "\n",
    "buffer = ReplayBuffer(10000, env.observation_space, env.action_space, device=device)\n",
    "\n",
    "for episode in range(10):\n",
    "    done = False\n",
    "    obs = env.reset()\n",
    "    while not done:\n",
    "        action = np.array(env.action_space.sample())\n",
    "        next_obs, reward, done, info = env.step(action)\n",
    "        buffer.add(obs, next_obs, action, reward, done, [info])\n",
    "        obs = next_obs"
   ]
  },
  {
   "cell_type": "markdown",
   "metadata": {},
   "source": [
    "Create a categorical VAE."
   ]
  },
  {
   "cell_type": "code",
   "execution_count": null,
   "metadata": {},
   "outputs": [],
   "source": [
    "from go_explore.vae import CNNCategoricalVAE\n",
    "\n",
    "vae = CNNCategoricalVAE().to(device)"
   ]
  },
  {
   "cell_type": "markdown",
   "metadata": {},
   "source": [
    "## Test the VAE"
   ]
  },
  {
   "cell_type": "markdown",
   "metadata": {},
   "source": [
    "Sample a batch of observations."
   ]
  },
  {
   "cell_type": "code",
   "execution_count": null,
   "metadata": {},
   "outputs": [],
   "source": [
    "input = buffer.sample(10).observations"
   ]
  },
  {
   "cell_type": "markdown",
   "metadata": {},
   "source": [
    "Transpose, resize and psuh to the device."
   ]
  },
  {
   "cell_type": "code",
   "execution_count": null,
   "metadata": {},
   "outputs": [],
   "source": [
    "from torchvision.transforms.functional import resize\n",
    "\n",
    "input = input.moveaxis(-1, -3)\n",
    "input = resize(input, (129, 129)).float() / 255"
   ]
  },
  {
   "cell_type": "markdown",
   "metadata": {},
   "source": [
    "Build the reconstruction."
   ]
  },
  {
   "cell_type": "code",
   "execution_count": null,
   "metadata": {},
   "outputs": [],
   "source": [
    "recons, logits = vae(input)"
   ]
  },
  {
   "cell_type": "markdown",
   "metadata": {},
   "source": [
    "Visualize the result."
   ]
  },
  {
   "cell_type": "code",
   "execution_count": null,
   "metadata": {},
   "outputs": [],
   "source": [
    "from go_explore.utils import build_image\n",
    "\n",
    "build_image([input, recons])"
   ]
  },
  {
   "cell_type": "markdown",
   "metadata": {},
   "source": [
    "Create the loss function."
   ]
  },
  {
   "cell_type": "code",
   "execution_count": null,
   "metadata": {},
   "outputs": [],
   "source": [
    "import torch.nn.functional as F\n",
    "from typing import Tuple\n",
    "\n",
    "\n",
    "def loss_func(\n",
    "    input: torch.Tensor, recons: torch.Tensor, logits: torch.Tensor\n",
    ") -> Tuple[torch.Tensor, torch.Tensor, torch.Tensor]:\n",
    "    # Reconstruction loss\n",
    "    recons_loss = F.mse_loss(input, recons)\n",
    "\n",
    "    # KL loss\n",
    "    nb_classes = logits.shape[2]\n",
    "    probs = F.softmax(logits, dim=2)\n",
    "    latent_entropy = probs * torch.log(probs + 1e-10)\n",
    "    target_entropy = probs * torch.log((1.0 / torch.tensor(nb_classes)))\n",
    "    kl_loss = (latent_entropy - target_entropy).mean()\n",
    "\n",
    "    # Total loss\n",
    "    loss = recons_loss + 0.01 * kl_loss\n",
    "    return loss, recons_loss, kl_loss\n"
   ]
  },
  {
   "cell_type": "markdown",
   "metadata": {},
   "source": [
    "Test the loss function."
   ]
  },
  {
   "cell_type": "code",
   "execution_count": null,
   "metadata": {},
   "outputs": [],
   "source": [
    "print(loss_func(input, recons, logits))"
   ]
  },
  {
   "cell_type": "code",
   "execution_count": null,
   "metadata": {},
   "outputs": [],
   "source": [
    "from torch import optim\n",
    "\n",
    "buffer_size = 64\n",
    "optimizer = optim.Adam(vae.parameters(), lr=2e-4)\n",
    "\n",
    "# Used for visualisation at the end\n",
    "test_image = buffer.sample(10).observations\n",
    "test_image = test_image.moveaxis(-1, -3)\n",
    "test_image = resize(test_image, (129, 129)).float() / 255\n",
    "images = [test_image]\n",
    "\n",
    "for epoch in range(5000):\n",
    "    # Sample\n",
    "    input = buffer.sample(10).observations\n",
    "    input = input.moveaxis(-1, -3)\n",
    "    input = resize(input, (129, 129)).float() / 255\n",
    "\n",
    "    # Compute the output image\n",
    "    vae.train()\n",
    "    recons, logits = vae(input)\n",
    "\n",
    "    # Compute the loss\n",
    "    loss, recons_loss, kl_loss = loss_func(input, recons, logits)\n",
    "\n",
    "    # Step the optimizer\n",
    "    optimizer.zero_grad()\n",
    "    loss.backward()\n",
    "    optimizer.step()\n",
    "\n",
    "    if epoch % 1000 == 0:\n",
    "        print(\n",
    "            \"epoch: {:5d}\\tloss: {:.5f}\\trecons loss: {:.5f}\\tkl loss: {:.5f}\".format(\n",
    "                epoch, loss.item(), recons_loss.item(), kl_loss.item()\n",
    "            ),\n",
    "        )\n",
    "        vae.eval()\n",
    "        images.append(vae(test_image)[0])\n"
   ]
  },
  {
   "cell_type": "markdown",
   "metadata": {},
   "source": [
    "Visualize the result. First row is a batch of image from the buffer, and each following row is the reconstruction during the training."
   ]
  },
  {
   "cell_type": "code",
   "execution_count": null,
   "metadata": {},
   "outputs": [],
   "source": [
    "build_image(images)"
   ]
  }
 ],
 "metadata": {
  "interpreter": {
   "hash": "f48e9823b73d61fb1e9f2e586933b91323c7e489dd89b69b8ad5cbedc4bff826"
  },
  "kernelspec": {
   "display_name": "Python 3.8.10 ('env': venv)",
   "language": "python",
   "name": "python3"
  },
  "language_info": {
   "codemirror_mode": {
    "name": "ipython",
    "version": 3
   },
   "file_extension": ".py",
   "mimetype": "text/x-python",
   "name": "python",
   "nbconvert_exporter": "python",
   "pygments_lexer": "ipython3",
   "version": "3.8.10"
  },
  "orig_nbformat": 4
 },
 "nbformat": 4,
 "nbformat_minor": 2
}
