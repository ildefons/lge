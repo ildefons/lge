{
 "cells": [
  {
   "cell_type": "markdown",
   "metadata": {},
   "source": [
    "Create the environment."
   ]
  },
  {
   "cell_type": "code",
   "execution_count": 1,
   "metadata": {},
   "outputs": [],
   "source": [
    "import gym\n",
    "import gym_continuous_maze\n",
    "\n",
    "env = gym.make(\"ContinuousMaze-v0\")\n"
   ]
  },
  {
   "cell_type": "markdown",
   "metadata": {},
   "source": [
    "Choose the device."
   ]
  },
  {
   "cell_type": "code",
   "execution_count": 2,
   "metadata": {},
   "outputs": [],
   "source": [
    "import torch\n",
    "\n",
    "device = \"cuda\" if torch.cuda.is_available() else \"cpu\""
   ]
  },
  {
   "cell_type": "markdown",
   "metadata": {},
   "source": [
    "Create a buffer and feed it."
   ]
  },
  {
   "cell_type": "code",
   "execution_count": 3,
   "metadata": {},
   "outputs": [],
   "source": [
    "import numpy as np\n",
    "\n",
    "from stable_baselines3.common.buffers import ReplayBuffer\n",
    "\n",
    "\n",
    "buffer = ReplayBuffer(10000, env.observation_space, env.action_space, device=device)\n",
    "\n",
    "for episode in range(100):\n",
    "    done = False\n",
    "    obs = env.reset()\n",
    "    while not done:\n",
    "        action = np.array(env.action_space.sample())\n",
    "        next_obs, reward, done, info = env.step(action)\n",
    "        buffer.add(obs, next_obs, action, reward, done, [info])\n",
    "        obs = next_obs"
   ]
  },
  {
   "cell_type": "markdown",
   "metadata": {},
   "source": [
    "Build the model."
   ]
  },
  {
   "cell_type": "code",
   "execution_count": 4,
   "metadata": {},
   "outputs": [
    {
     "name": "stderr",
     "output_type": "stream",
     "text": [
      "/home/qgallouedec/go-explore/env/lib/python3.8/site-packages/torchvision/transforms/functional_pil.py:228: DeprecationWarning: BILINEAR is deprecated and will be removed in Pillow 10 (2023-07-01). Use Resampling.BILINEAR instead.\n",
      "  interpolation: int = Image.BILINEAR,\n",
      "/home/qgallouedec/go-explore/env/lib/python3.8/site-packages/torchvision/transforms/functional_pil.py:295: DeprecationWarning: NEAREST is deprecated and will be removed in Pillow 10 (2023-07-01). Use Resampling.NEAREST or Dither.NONE instead.\n",
      "  interpolation: int = Image.NEAREST,\n",
      "/home/qgallouedec/go-explore/env/lib/python3.8/site-packages/torchvision/transforms/functional_pil.py:328: DeprecationWarning: BICUBIC is deprecated and will be removed in Pillow 10 (2023-07-01). Use Resampling.BICUBIC instead.\n",
      "  interpolation: int = Image.BICUBIC,\n"
     ]
    }
   ],
   "source": [
    "from go_explore.vae import Linear_VQ_VAE\n",
    "\n",
    "vae = Linear_VQ_VAE(2).to(device)\n"
   ]
  },
  {
   "cell_type": "markdown",
   "metadata": {},
   "source": [
    "## Test the VAE"
   ]
  },
  {
   "cell_type": "markdown",
   "metadata": {},
   "source": [
    "Sample a batch of observations."
   ]
  },
  {
   "cell_type": "code",
   "execution_count": 5,
   "metadata": {},
   "outputs": [],
   "source": [
    "input = buffer.sample(10).observations"
   ]
  },
  {
   "cell_type": "markdown",
   "metadata": {},
   "source": [
    "Build the reconstruction."
   ]
  },
  {
   "cell_type": "code",
   "execution_count": 6,
   "metadata": {},
   "outputs": [],
   "source": [
    "recons, vq_loss, perplexity = vae(input)"
   ]
  },
  {
   "cell_type": "markdown",
   "metadata": {},
   "source": [
    "Visualize the result."
   ]
  },
  {
   "cell_type": "code",
   "execution_count": 7,
   "metadata": {},
   "outputs": [
    {
     "data": {
      "text/plain": [
       "(tensor([[-3.8503, -1.3152],\n",
       "         [ 1.0859, -0.8845],\n",
       "         [-0.6544, -0.6672],\n",
       "         [ 0.2322, -1.7428],\n",
       "         [ 0.8650, -0.5934],\n",
       "         [-2.2742, -1.3819],\n",
       "         [ 0.3259, -0.5615],\n",
       "         [-4.8408, -0.0652],\n",
       "         [ 0.9365, -1.5655],\n",
       "         [-0.6709, -0.9407]], device='cuda:0'),\n",
       " tensor([[ 0.2449, -0.2554],\n",
       "         [ 0.1766, -0.2440],\n",
       "         [ 0.2554, -0.2591],\n",
       "         [ 0.1950, -0.2427],\n",
       "         [ 0.1993, -0.2551],\n",
       "         [ 0.2274, -0.2502],\n",
       "         [ 0.2192, -0.2502],\n",
       "         [ 0.2443, -0.2544],\n",
       "         [ 0.2135, -0.2485],\n",
       "         [ 0.2596, -0.2605]], device='cuda:0', grad_fn=<AddmmBackward0>))"
      ]
     },
     "execution_count": 7,
     "metadata": {},
     "output_type": "execute_result"
    }
   ],
   "source": [
    "input, recons"
   ]
  },
  {
   "cell_type": "markdown",
   "metadata": {},
   "source": [
    "## Train the model"
   ]
  },
  {
   "cell_type": "markdown",
   "metadata": {},
   "source": [
    "Create a loss function."
   ]
  },
  {
   "cell_type": "code",
   "execution_count": 8,
   "metadata": {},
   "outputs": [],
   "source": [
    "import torch.nn.functional as F\n",
    "from typing import Tuple\n",
    "from torch import Tensor\n",
    "\n",
    "\n",
    "def loss_func(inputs: Tensor, recons: Tensor, vq_loss: Tensor) -> Tuple[Tensor, Tensor]:\n",
    "    # Reconstruction loss\n",
    "    recons_loss = F.mse_loss(inputs, recons)  # / data_variance\n",
    "\n",
    "    # Total loss\n",
    "    loss = recons_loss + 0.001*vq_loss\n",
    "\n",
    "    return loss, recons_loss\n"
   ]
  },
  {
   "cell_type": "markdown",
   "metadata": {},
   "source": [
    "Test the loss function."
   ]
  },
  {
   "cell_type": "code",
   "execution_count": 9,
   "metadata": {},
   "outputs": [
    {
     "data": {
      "text/plain": [
       "(tensor(0.3341, device='cuda:0', grad_fn=<AddBackward0>),\n",
       " tensor(3.0031, device='cuda:0', grad_fn=<MseLossBackward0>))"
      ]
     },
     "execution_count": 9,
     "metadata": {},
     "output_type": "execute_result"
    }
   ],
   "source": [
    "loss_func(input, recons, vq_loss)"
   ]
  },
  {
   "cell_type": "markdown",
   "metadata": {},
   "source": [
    "Create optimizer."
   ]
  },
  {
   "cell_type": "code",
   "execution_count": 10,
   "metadata": {},
   "outputs": [],
   "source": [
    "from torch import optim\n",
    "\n",
    "optimizer = optim.Adam(vae.parameters(), lr=2e-4)\n"
   ]
  },
  {
   "cell_type": "code",
   "execution_count": 19,
   "metadata": {},
   "outputs": [
    {
     "name": "stdout",
     "output_type": "stream",
     "text": [
      "epoch:     0\tloss: 3.33540\trecons loss: 3.10775\tvq loss: 30.24626\n",
      "epoch:  1000\tloss: 4.63747\trecons loss: 3.29905\tvq loss: 43.07561\n",
      "epoch:  2000\tloss: 10.67723\trecons loss: 3.73394\tvq loss: 103.03839\n",
      "epoch:  3000\tloss: 13.35366\trecons loss: 2.93960\tvq loss: 130.59703\n",
      "epoch:  4000\tloss: 11.56334\trecons loss: 3.57376\tvq loss: 112.05963\n"
     ]
    }
   ],
   "source": [
    "perplexities = []\n",
    "for epoch in range(5000):\n",
    "    # Sample\n",
    "    input = buffer.sample(128).observations\n",
    "\n",
    "    # Compute the output image\n",
    "    vae.train()\n",
    "    recons, vq_loss, perplexity = vae(input)\n",
    "\n",
    "    # Compute the loss\n",
    "    loss, recons_loss = loss_func(input, recons, vq_loss)\n",
    "\n",
    "    # Step the optimizer\n",
    "    optimizer.zero_grad()\n",
    "    loss.backward()\n",
    "    optimizer.step()\n",
    "\n",
    "    perplexities.append(perplexity.item())\n",
    "\n",
    "    if epoch % 1000 == 0:\n",
    "        print(\n",
    "            \"epoch: {:5d}\\tloss: {:.5f}\\trecons loss: {:.5f}\\tvq loss: {:.5f}\".format(\n",
    "                epoch, loss.item(), recons_loss.item(), vq_loss.item()\n",
    "            ),\n",
    "        )\n",
    "        vae.eval()\n"
   ]
  },
  {
   "cell_type": "code",
   "execution_count": 20,
   "metadata": {},
   "outputs": [
    {
     "data": {
      "text/plain": [
       "tensor(7.2298, device='cuda:0', grad_fn=<MseLossBackward0>)"
      ]
     },
     "execution_count": 20,
     "metadata": {},
     "output_type": "execute_result"
    }
   ],
   "source": [
    "input = buffer.sample(10).observations\n",
    "recons, vq_loss, perplexity = vae(input)\n",
    "F.mse_loss(input, recons)"
   ]
  },
  {
   "cell_type": "code",
   "execution_count": 21,
   "metadata": {},
   "outputs": [
    {
     "data": {
      "image/png": "[encoded data removed]",
      "text/plain": [
       "<Figure size 432x288 with 1 Axes>"
      ]
     },
     "metadata": {},
     "output_type": "display_data"
    }
   ],
   "source": [
    "%matplotlib inline\n",
    "import matplotlib.pyplot as plt\n",
    "plt.style.use('seaborn-whitegrid')\n",
    "import numpy as np\n",
    "fig = plt.figure()\n",
    "ax = plt.axes()\n",
    "ax.set_ylim(0, 1000)\n",
    "\n",
    "ax.plot(perplexities);"
   ]
  },
  {
   "cell_type": "code",
   "execution_count": 22,
   "metadata": {},
   "outputs": [
    {
     "data": {
      "text/plain": [
       "0.5102976274660542"
      ]
     },
     "execution_count": 22,
     "metadata": {},
     "output_type": "execute_result"
    }
   ],
   "source": [
    "from go_explore.cells import get_param_score\n",
    "\n",
    "input = buffer.sample(512).observations\n",
    "\n",
    "# Compute the output image\n",
    "vae.eval()\n",
    "quantized = vae.get_quantized(input).flatten(1)\n",
    "get_param_score(quantized)\n"
   ]
  },
  {
   "cell_type": "code",
   "execution_count": 23,
   "metadata": {},
   "outputs": [
    {
     "data": {
      "text/plain": [
       "(tensor([[-2.8215, -0.6579],\n",
       "         [-4.2676,  1.7508],\n",
       "         [-4.7305,  0.9056],\n",
       "         [ 1.9043, -1.0886],\n",
       "         [-0.7551, -1.8200],\n",
       "         [ 1.5072, -0.7871],\n",
       "         [ 0.8103, -0.1571],\n",
       "         [ 0.5682, -1.7440],\n",
       "         [ 1.0885,  0.2978],\n",
       "         [-2.1058,  0.4611]], device='cuda:0'),\n",
       " tensor([[-0.6614,  0.4910],\n",
       "         [-0.6614,  0.4910],\n",
       "         [-0.6614,  0.4910],\n",
       "         [-0.6614,  0.4910],\n",
       "         [ 0.4048, -0.0057],\n",
       "         [-0.6614,  0.4910],\n",
       "         [-0.6614,  0.4910],\n",
       "         [-0.6614,  0.4910],\n",
       "         [-0.6614,  0.4910],\n",
       "         [-0.6614,  0.4910]], device='cuda:0', grad_fn=<AddmmBackward0>))"
      ]
     },
     "execution_count": 23,
     "metadata": {},
     "output_type": "execute_result"
    }
   ],
   "source": [
    "input = buffer.sample(10).observations\n",
    "input, vae(input)[0]"
   ]
  },
  {
   "cell_type": "code",
   "execution_count": 24,
   "metadata": {},
   "outputs": [
    {
     "data": {
      "text/plain": [
       "tensor([[[ 5.7247e+00],\n",
       "         [ 1.5395e+00],\n",
       "         [ 6.8594e+00],\n",
       "         [ 6.6407e+00],\n",
       "         [ 1.8874e+01],\n",
       "         [ 2.2118e+00]],\n",
       "\n",
       "        [[ 9.4913e+00],\n",
       "         [ 3.3866e+00],\n",
       "         [ 1.1616e+01],\n",
       "         [ 1.1582e+01],\n",
       "         [ 3.9805e+01],\n",
       "         [ 3.4912e+00]],\n",
       "\n",
       "        [[ 1.0267e+01],\n",
       "         [ 3.4147e+00],\n",
       "         [ 1.2568e+01],\n",
       "         [ 1.2344e+01],\n",
       "         [ 4.0913e+01],\n",
       "         [ 3.6717e+00]],\n",
       "\n",
       "        [[-4.8380e+00],\n",
       "         [-1.1037e+00],\n",
       "         [-7.1200e+00],\n",
       "         [-7.2170e+00],\n",
       "         [-3.0377e+01],\n",
       "         [-2.3957e+00]],\n",
       "\n",
       "        [[ 2.1310e-01],\n",
       "         [ 1.0399e-02],\n",
       "         [-1.6251e-01],\n",
       "         [-4.0244e-01],\n",
       "         [-9.1735e+00],\n",
       "         [-1.6094e-01]],\n",
       "\n",
       "        [[-4.0655e+00],\n",
       "         [-9.7030e-01],\n",
       "         [-6.0349e+00],\n",
       "         [-6.1393e+00],\n",
       "         [-2.5351e+01],\n",
       "         [-1.9318e+00]],\n",
       "\n",
       "        [[-2.6674e+00],\n",
       "         [-7.4576e-01],\n",
       "         [-4.0693e+00],\n",
       "         [-4.1990e+00],\n",
       "         [-1.6018e+01],\n",
       "         [-1.0866e+00]],\n",
       "\n",
       "        [[-2.9387e+00],\n",
       "         [-4.9493e-01],\n",
       "         [-4.4778e+00],\n",
       "         [-4.3966e+00],\n",
       "         [-2.1914e+01],\n",
       "         [-1.3455e+00]],\n",
       "\n",
       "        [[-2.9295e+00],\n",
       "         [-9.0302e-01],\n",
       "         [-4.4272e+00],\n",
       "         [-4.6327e+00],\n",
       "         [-1.6170e+01],\n",
       "         [-1.2079e+00]],\n",
       "\n",
       "        [[ 4.4757e+00],\n",
       "         [ 1.4306e+00],\n",
       "         [ 5.3204e+00],\n",
       "         [ 5.3676e+00],\n",
       "         [ 1.6512e+01],\n",
       "         [ 1.9063e+00]]], device='cuda:0', grad_fn=<ReshapeAliasBackward0>)"
      ]
     },
     "execution_count": 24,
     "metadata": {},
     "output_type": "execute_result"
    }
   ],
   "source": [
    "vae.encode(input)"
   ]
  }
 ],
 "metadata": {
  "interpreter": {
   "hash": "f48e9823b73d61fb1e9f2e586933b91323c7e489dd89b69b8ad5cbedc4bff826"
  },
  "kernelspec": {
   "display_name": "Python 3.8.10 ('env': venv)",
   "language": "python",
   "name": "python3"
  },
  "language_info": {
   "codemirror_mode": {
    "name": "ipython",
    "version": 3
   },
   "file_extension": ".py",
   "mimetype": "text/x-python",
   "name": "python",
   "nbconvert_exporter": "python",
   "pygments_lexer": "ipython3",
   "version": "3.8.10"
  },
  "orig_nbformat": 4
 },
 "nbformat": 4,
 "nbformat_minor": 2
}
