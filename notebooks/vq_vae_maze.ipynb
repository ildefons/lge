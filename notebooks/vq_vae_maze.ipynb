{
 "cells": [
  {
   "cell_type": "markdown",
   "metadata": {},
   "source": [
    "Create the environment."
   ]
  },
  {
   "cell_type": "code",
   "execution_count": 1,
   "metadata": {},
   "outputs": [],
   "source": [
    "import gym\n",
    "import gym_continuous_maze\n",
    "\n",
    "env = gym.make(\"ContinuousMaze-v0\")"
   ]
  },
  {
   "cell_type": "markdown",
   "metadata": {},
   "source": [
    "Choose the device."
   ]
  },
  {
   "cell_type": "code",
   "execution_count": 2,
   "metadata": {},
   "outputs": [],
   "source": [
    "import torch\n",
    "\n",
    "device = \"cuda\" if torch.cuda.is_available() else \"cpu\""
   ]
  },
  {
   "cell_type": "markdown",
   "metadata": {},
   "source": [
    "Create a buffer and feed it."
   ]
  },
  {
   "cell_type": "code",
   "execution_count": 3,
   "metadata": {},
   "outputs": [],
   "source": [
    "import numpy as np\n",
    "\n",
    "from stable_baselines3.common.buffers import ReplayBuffer\n",
    "\n",
    "\n",
    "buffer = ReplayBuffer(10000, env.observation_space, env.action_space, device=device)\n",
    "\n",
    "for episode in range(100):\n",
    "    done = False\n",
    "    obs = env.reset()\n",
    "    while not done:\n",
    "        action = np.array(env.action_space.sample())\n",
    "        next_obs, reward, done, info = env.step(action)\n",
    "        buffer.add(obs, next_obs, action, reward, done, [info])\n",
    "        obs = next_obs"
   ]
  },
  {
   "cell_type": "markdown",
   "metadata": {},
   "source": [
    "Build the model."
   ]
  },
  {
   "cell_type": "code",
   "execution_count": 4,
   "metadata": {},
   "outputs": [
    {
     "name": "stderr",
     "output_type": "stream",
     "text": [
      "/home/qgallouedec/go-explore/env/lib/python3.8/site-packages/torchvision/transforms/functional_pil.py:228: DeprecationWarning: BILINEAR is deprecated and will be removed in Pillow 10 (2023-07-01). Use Resampling.BILINEAR instead.\n",
      "  interpolation: int = Image.BILINEAR,\n",
      "/home/qgallouedec/go-explore/env/lib/python3.8/site-packages/torchvision/transforms/functional_pil.py:295: DeprecationWarning: NEAREST is deprecated and will be removed in Pillow 10 (2023-07-01). Use Resampling.NEAREST or Dither.NONE instead.\n",
      "  interpolation: int = Image.NEAREST,\n",
      "/home/qgallouedec/go-explore/env/lib/python3.8/site-packages/torchvision/transforms/functional_pil.py:328: DeprecationWarning: BICUBIC is deprecated and will be removed in Pillow 10 (2023-07-01). Use Resampling.BICUBIC instead.\n",
      "  interpolation: int = Image.BICUBIC,\n"
     ]
    }
   ],
   "source": [
    "from go_explore.vae import Linear_VQ_VAE\n",
    "\n",
    "vae = Linear_VQ_VAE(2, embedding_dim=1, num_embeddings=20).to(device)"
   ]
  },
  {
   "cell_type": "markdown",
   "metadata": {},
   "source": [
    "## Test the VAE"
   ]
  },
  {
   "cell_type": "markdown",
   "metadata": {},
   "source": [
    "Sample a batch of observations."
   ]
  },
  {
   "cell_type": "code",
   "execution_count": 5,
   "metadata": {},
   "outputs": [],
   "source": [
    "input = buffer.sample(10).observations"
   ]
  },
  {
   "cell_type": "markdown",
   "metadata": {},
   "source": [
    "Build the reconstruction."
   ]
  },
  {
   "cell_type": "code",
   "execution_count": 6,
   "metadata": {},
   "outputs": [],
   "source": [
    "recons, vq_loss, perplexity = vae(input)"
   ]
  },
  {
   "cell_type": "markdown",
   "metadata": {},
   "source": [
    "Visualize the result."
   ]
  },
  {
   "cell_type": "code",
   "execution_count": 7,
   "metadata": {},
   "outputs": [
    {
     "data": {
      "text/plain": [
       "(tensor([[-2.4396, -1.3655],\n",
       "         [-0.5882, -1.2030],\n",
       "         [-2.9576, -1.3150],\n",
       "         [-2.8197, -1.9785],\n",
       "         [-0.3236,  0.7054],\n",
       "         [-1.5119, -0.5108],\n",
       "         [-1.3692,  1.0929],\n",
       "         [ 0.3785, -1.0789],\n",
       "         [-1.3804, -0.8298],\n",
       "         [ 1.7906,  2.6254]], device='cuda:0'),\n",
       " tensor([[0.6397, 0.8235],\n",
       "         [0.6397, 0.8235],\n",
       "         [0.6397, 0.8235],\n",
       "         [0.6397, 0.8235],\n",
       "         [0.6397, 0.8235],\n",
       "         [0.6397, 0.8235],\n",
       "         [0.6397, 0.8235],\n",
       "         [0.6397, 0.8235],\n",
       "         [0.6397, 0.8235],\n",
       "         [0.6487, 0.8471]], device='cuda:0', grad_fn=<AddmmBackward0>))"
      ]
     },
     "execution_count": 7,
     "metadata": {},
     "output_type": "execute_result"
    }
   ],
   "source": [
    "input, recons"
   ]
  },
  {
   "cell_type": "markdown",
   "metadata": {},
   "source": [
    "## Train the model"
   ]
  },
  {
   "cell_type": "markdown",
   "metadata": {},
   "source": [
    "Create a loss function."
   ]
  },
  {
   "cell_type": "code",
   "execution_count": 8,
   "metadata": {},
   "outputs": [],
   "source": [
    "import torch.nn.functional as F\n",
    "from typing import Tuple\n",
    "from torch import Tensor\n",
    "\n",
    "\n",
    "def loss_func(inputs: Tensor, recons: Tensor, vq_loss: Tensor) -> Tuple[Tensor, Tensor]:\n",
    "    # Reconstruction loss\n",
    "    recons_loss = F.mse_loss(inputs, recons)  # / data_variance\n",
    "\n",
    "    # Total loss\n",
    "    loss = recons_loss + 0.1 * vq_loss\n",
    "\n",
    "    return loss, recons_loss"
   ]
  },
  {
   "cell_type": "markdown",
   "metadata": {},
   "source": [
    "Test the loss function."
   ]
  },
  {
   "cell_type": "code",
   "execution_count": 9,
   "metadata": {},
   "outputs": [
    {
     "data": {
      "text/plain": [
       "(tensor(4.2052, device='cuda:0', grad_fn=<AddBackward0>),\n",
       " tensor(4.1825, device='cuda:0', grad_fn=<MseLossBackward0>))"
      ]
     },
     "execution_count": 9,
     "metadata": {},
     "output_type": "execute_result"
    }
   ],
   "source": [
    "loss_func(input, recons, vq_loss)"
   ]
  },
  {
   "cell_type": "markdown",
   "metadata": {},
   "source": [
    "Create optimizer."
   ]
  },
  {
   "cell_type": "code",
   "execution_count": 10,
   "metadata": {},
   "outputs": [],
   "source": [
    "from torch import optim\n",
    "\n",
    "optimizer = optim.Adam(vae.parameters(), lr=1e-3)"
   ]
  },
  {
   "cell_type": "code",
   "execution_count": 11,
   "metadata": {},
   "outputs": [
    {
     "name": "stdout",
     "output_type": "stream",
     "text": [
      "epoch:     0\tloss: 4.57812\trecons loss: 4.55433\tvq loss: 0.23786\n",
      "epoch:  1000\tloss: 11.17864\trecons loss: 2.76774\tvq loss: 84.10896\n",
      "epoch:  2000\tloss: 13.00703\trecons loss: 1.82743\tvq loss: 111.79592\n",
      "epoch:  3000\tloss: 6.11501\trecons loss: 2.19555\tvq loss: 39.19460\n",
      "epoch:  4000\tloss: 2.99226\trecons loss: 1.88988\tvq loss: 11.02380\n",
      "epoch:  5000\tloss: 2.41692\trecons loss: 1.82584\tvq loss: 5.91079\n",
      "epoch:  6000\tloss: 1.22397\trecons loss: 0.95564\tvq loss: 2.68332\n",
      "epoch:  7000\tloss: 2.54456\trecons loss: 0.88109\tvq loss: 16.63468\n",
      "epoch:  8000\tloss: 1.63494\trecons loss: 0.61345\tvq loss: 10.21491\n",
      "epoch:  9000\tloss: 1.08327\trecons loss: 0.50882\tvq loss: 5.74450\n"
     ]
    }
   ],
   "source": [
    "perplexities = []\n",
    "for epoch in range(10000):\n",
    "    # Sample\n",
    "    input = buffer.sample(128).observations\n",
    "\n",
    "    # Compute the output image\n",
    "    vae.train()\n",
    "    recons, vq_loss, perplexity = vae(input)\n",
    "\n",
    "    # Compute the loss\n",
    "    loss, recons_loss = loss_func(input, recons, vq_loss)\n",
    "\n",
    "    # Step the optimizer\n",
    "    optimizer.zero_grad()\n",
    "    loss.backward()\n",
    "    optimizer.step()\n",
    "\n",
    "    perplexities.append(perplexity.item())\n",
    "\n",
    "    if epoch % 1000 == 0:\n",
    "        print(\n",
    "            \"epoch: {:5d}\\tloss: {:.5f}\\trecons loss: {:.5f}\\tvq loss: {:.5f}\".format(\n",
    "                epoch, loss.item(), recons_loss.item(), vq_loss.item()\n",
    "            ),\n",
    "        )\n",
    "        vae.eval()"
   ]
  },
  {
   "cell_type": "code",
   "execution_count": 12,
   "metadata": {},
   "outputs": [
    {
     "data": {
      "text/plain": [
       "tensor(0.2598, device='cuda:0', grad_fn=<MseLossBackward0>)"
      ]
     },
     "execution_count": 12,
     "metadata": {},
     "output_type": "execute_result"
    }
   ],
   "source": [
    "input = buffer.sample(10).observations\n",
    "recons, vq_loss, perplexity = vae(input)\n",
    "F.mse_loss(input, recons)"
   ]
  },
  {
   "cell_type": "code",
   "execution_count": 13,
   "metadata": {},
   "outputs": [
    {
     "data": {
      "image/png": "[encoded data removed]",
      "text/plain": [
       "<Figure size 432x288 with 1 Axes>"
      ]
     },
     "metadata": {},
     "output_type": "display_data"
    }
   ],
   "source": [
    "%matplotlib inline\n",
    "import matplotlib.pyplot as plt\n",
    "\n",
    "plt.style.use(\"seaborn-whitegrid\")\n",
    "import numpy as np\n",
    "\n",
    "fig = plt.figure()\n",
    "ax = plt.axes()\n",
    "ax.set_ylim(0, 10)\n",
    "\n",
    "ax.plot(perplexities);"
   ]
  },
  {
   "cell_type": "code",
   "execution_count": 14,
   "metadata": {},
   "outputs": [
    {
     "data": {
      "text/plain": [
       "0.6208777574309989"
      ]
     },
     "execution_count": 14,
     "metadata": {},
     "output_type": "execute_result"
    }
   ],
   "source": [
    "from go_explore.cells import get_param_score\n",
    "\n",
    "input = buffer.sample(512).observations\n",
    "\n",
    "# Compute the output image\n",
    "vae.eval()\n",
    "quantized = vae.get_quantized(input)\n",
    "get_param_score(quantized)"
   ]
  },
  {
   "cell_type": "code",
   "execution_count": 15,
   "metadata": {},
   "outputs": [
    {
     "data": {
      "text/plain": [
       "(tensor([[ 0.6394,  2.4636],\n",
       "         [-3.4143,  3.1747],\n",
       "         [-3.0605, -0.3981],\n",
       "         [ 1.7350,  0.5026],\n",
       "         [-0.3900, -0.5075],\n",
       "         [ 1.8079, -0.7320],\n",
       "         [ 0.8254, -1.1248],\n",
       "         [ 1.6834,  3.1079],\n",
       "         [-1.0810, -1.2774],\n",
       "         [-2.2364,  0.8462]], device='cuda:0'),\n",
       " tensor([[ 1.0690,  2.8953],\n",
       "         [-3.7387,  3.9577],\n",
       "         [-3.4173, -0.9726],\n",
       "         [ 0.8882, -0.6095],\n",
       "         [-0.0682, -0.7583],\n",
       "         [ 0.8882, -0.6095],\n",
       "         [ 0.8882, -0.6095],\n",
       "         [ 1.0774,  3.5569],\n",
       "         [-0.7353, -0.7118],\n",
       "         [-2.3721,  0.6804]], device='cuda:0', grad_fn=<AddmmBackward0>))"
      ]
     },
     "execution_count": 15,
     "metadata": {},
     "output_type": "execute_result"
    }
   ],
   "source": [
    "input = buffer.sample(10).observations\n",
    "input, vae(input)[0]"
   ]
  },
  {
   "cell_type": "code",
   "execution_count": 16,
   "metadata": {},
   "outputs": [
    {
     "data": {
      "text/plain": [
       "tensor([[ 4.6575, -6.2800],\n",
       "        [-9.6740, -7.2826],\n",
       "        [-7.2227,  5.6874],\n",
       "        [ 4.8805,  1.9901],\n",
       "        [ 2.5006,  2.8642],\n",
       "        [ 4.8813,  2.0201],\n",
       "        [ 4.8813,  2.0201],\n",
       "        [ 4.6156, -7.8347],\n",
       "        [ 0.1676,  3.6915],\n",
       "        [-4.6208,  0.7368]], device='cuda:0', grad_fn=<AddmmBackward0>)"
      ]
     },
     "execution_count": 16,
     "metadata": {},
     "output_type": "execute_result"
    }
   ],
   "source": [
    "vae.encode(input)"
   ]
  }
 ],
 "metadata": {
  "interpreter": {
   "hash": "f48e9823b73d61fb1e9f2e586933b91323c7e489dd89b69b8ad5cbedc4bff826"
  },
  "kernelspec": {
   "display_name": "Python 3.8.10 ('env': venv)",
   "language": "python",
   "name": "python3"
  },
  "language_info": {
   "codemirror_mode": {
    "name": "ipython",
    "version": 3
   },
   "file_extension": ".py",
   "mimetype": "text/x-python",
   "name": "python",
   "nbconvert_exporter": "python",
   "pygments_lexer": "ipython3",
   "version": "3.8.10"
  },
  "orig_nbformat": 4
 },
 "nbformat": 4,
 "nbformat_minor": 2
}
