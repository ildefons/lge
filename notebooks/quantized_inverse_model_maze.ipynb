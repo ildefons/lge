{
 "cells": [
  {
   "cell_type": "markdown",
   "metadata": {},
   "source": [
    "# Quantized latent with inverse model on continuous maze\n",
    "\n",
    "## Instanciate and train the model"
   ]
  },
  {
   "cell_type": "markdown",
   "metadata": {},
   "source": [
    "Create the environment."
   ]
  },
  {
   "cell_type": "code",
   "execution_count": 6,
   "metadata": {},
   "outputs": [],
   "source": [
    "import gym\n",
    "import gym_continuous_maze\n",
    "\n",
    "env = gym.make(\"ContinuousMaze-v0\")"
   ]
  },
  {
   "cell_type": "markdown",
   "metadata": {},
   "source": [
    "Initilize the device."
   ]
  },
  {
   "cell_type": "code",
   "execution_count": 7,
   "metadata": {},
   "outputs": [],
   "source": [
    "import torch\n",
    "\n",
    "device = \"cuda\" if torch.cuda.is_available() else \"cpu\""
   ]
  },
  {
   "cell_type": "markdown",
   "metadata": {},
   "source": [
    "Create a buffer and feed it."
   ]
  },
  {
   "cell_type": "code",
   "execution_count": 8,
   "metadata": {},
   "outputs": [],
   "source": [
    "import numpy as np\n",
    "\n",
    "from stable_baselines3.common.buffers import ReplayBuffer\n",
    "\n",
    "buffer = ReplayBuffer(100_000, env.observation_space, env.action_space, device=device)\n",
    "\n",
    "for episode in range(200):\n",
    "    done = False\n",
    "    obs = env.reset()\n",
    "    while not done:\n",
    "        action = np.array(env.action_space.sample())\n",
    "        next_obs, reward, done, info = env.step(action)\n",
    "        buffer.add(obs, next_obs, action, reward, done, [info])\n",
    "        obs = next_obs"
   ]
  },
  {
   "cell_type": "markdown",
   "metadata": {},
   "source": [
    "Instanciate the model and the optimizer."
   ]
  },
  {
   "cell_type": "code",
   "execution_count": 9,
   "metadata": {},
   "outputs": [],
   "source": [
    "from go_explore.inverse_model import LinearInverseModel\n",
    "\n",
    "from torch import optim\n",
    "\n",
    "inverse_model = LinearInverseModel(obs_size=2, action_size=2, latent_size=2)\n",
    "optimizer = optim.Adam(inverse_model.parameters(), lr=1e-3)"
   ]
  },
  {
   "cell_type": "markdown",
   "metadata": {},
   "source": [
    "Train the model."
   ]
  },
  {
   "cell_type": "code",
   "execution_count": 10,
   "metadata": {},
   "outputs": [
    {
     "name": "stdout",
     "output_type": "stream",
     "text": [
      "epoch:     0\tprediction loss: 0.37428\n",
      "epoch:  1000\tprediction loss: 0.07782\n",
      "epoch:  2000\tprediction loss: 0.06293\n",
      "epoch:  3000\tprediction loss: 0.08304\n",
      "epoch:  4000\tprediction loss: 0.08584\n"
     ]
    }
   ],
   "source": [
    "import torch.nn.functional as F\n",
    "\n",
    "for epoch in range(5_000):\n",
    "    # Sample\n",
    "    sample = buffer.sample(128)\n",
    "    observations = sample.observations\n",
    "    next_observations = sample.next_observations\n",
    "    actions = sample.actions\n",
    "\n",
    "    # Compute the output image\n",
    "    inverse_model.train()\n",
    "    pred_actions = inverse_model(observations, next_observations)\n",
    "\n",
    "    # Compute the loss\n",
    "    loss = F.mse_loss(actions, pred_actions)\n",
    "\n",
    "    # Step the optimizer\n",
    "    optimizer.zero_grad()\n",
    "    loss.backward()\n",
    "    optimizer.step()\n",
    "\n",
    "    if epoch % 1000 == 0:\n",
    "        print(\"epoch: {:5d}\\tprediction loss: {:.5f}\".format(epoch, loss.item()))"
   ]
  },
  {
   "cell_type": "markdown",
   "metadata": {},
   "source": [
    "See the result for one transition."
   ]
  },
  {
   "cell_type": "code",
   "execution_count": 14,
   "metadata": {},
   "outputs": [
    {
     "name": "stdout",
     "output_type": "stream",
     "text": [
      "observation\t\t tensor([[0.7652, 3.1950]])\n",
      "next observation\t tensor([[1.2201, 3.1866]])\n",
      "true action\t\t tensor([[ 0.4549, -0.0085]])\n",
      "predicted action\t tensor([[0.4191, 0.1802]], grad_fn=<AddmmBackward0>)\n"
     ]
    }
   ],
   "source": [
    "# Sample one transition\n",
    "sample = buffer.sample(1)\n",
    "observations = sample.observations\n",
    "next_observations = sample.next_observations\n",
    "actions = sample.actions\n",
    "\n",
    "# Predict the action\n",
    "inverse_model.eval()\n",
    "pred_actions = inverse_model(observations, next_observations)\n",
    "\n",
    "# See the result\n",
    "print(\"observation\\t\\t\", observations)\n",
    "print(\"next observation\\t\", next_observations)\n",
    "print(\"true action\\t\\t\", actions)\n",
    "print(\"predicted action\\t\", pred_actions)"
   ]
  },
  {
   "cell_type": "markdown",
   "metadata": {},
   "source": [
    "## Quantizing the latent"
   ]
  },
  {
   "cell_type": "markdown",
   "metadata": {},
   "source": [
    "Sample and compute the latent."
   ]
  },
  {
   "cell_type": "code",
   "execution_count": 20,
   "metadata": {},
   "outputs": [],
   "source": [
    "# Sample a batch of transitions\n",
    "sample = buffer.sample(512)\n",
    "observations = sample.observations\n",
    "\n",
    "# Get the latent and quantized it\n",
    "inverse_model.eval()\n",
    "latent = inverse_model.encoder(observations)"
   ]
  },
  {
   "cell_type": "markdown",
   "metadata": {},
   "source": [
    "Quantize."
   ]
  },
  {
   "cell_type": "code",
   "execution_count": null,
   "metadata": {},
   "outputs": [],
   "source": [
    "quantized = torch.round(latent, decimals=0) + 0.0  # +0.0 to avoid -0.0\n",
    "quantized = quantized.detach().cpu().numpy()"
   ]
  },
  {
   "cell_type": "markdown",
   "metadata": {},
   "source": [
    "Represent the observations and the corresponding quantized latent ."
   ]
  },
  {
   "cell_type": "code",
   "execution_count": 28,
   "metadata": {},
   "outputs": [
    {
     "data": {
      "image/png": "[encoded data removed]",
      "text/plain": [
       "<Figure size 432x288 with 2 Axes>"
      ]
     },
     "metadata": {
      "needs_background": "light"
     },
     "output_type": "display_data"
    }
   ],
   "source": [
    "import matplotlib.pyplot as plt\n",
    "\n",
    "fig, axs = plt.subplots(1, 2)\n",
    "\n",
    "cells, counts = np.unique(quantized, return_counts=True, axis=0)\n",
    "\n",
    "# Observations\n",
    "axs[0].grid()\n",
    "axs[0].set_title(\"Observations\")\n",
    "axs[0].axis(\"equal\")\n",
    "for cell in cells:\n",
    "    axs[0].plot(*observations[(quantized == cell).all(1)].T, \"o\", markersize=3)\n",
    "\n",
    "# Quantized latent\n",
    "axs[1].grid()\n",
    "axs[1].set_title(\"Quantized latent\")\n",
    "axs[1].axis(\"equal\")\n",
    "for cell, count in zip(cells, counts):\n",
    "    axs[1].scatter(*quantized[(quantized == cell).all(1)].T, s=count * 10)"
   ]
  },
  {
   "cell_type": "markdown",
   "metadata": {},
   "source": [
    "The bigger the circle, the more observations in the cell."
   ]
  }
 ],
 "metadata": {
  "interpreter": {
   "hash": "93c98033d87fa697a7fac27d7c96a5a60e76fb93e89f0cf769d349f60d994325"
  },
  "kernelspec": {
   "display_name": "Python 3.9.12 ('.env': venv)",
   "language": "python",
   "name": "python3"
  },
  "language_info": {
   "codemirror_mode": {
    "name": "ipython",
    "version": 3
   },
   "file_extension": ".py",
   "mimetype": "text/x-python",
   "name": "python",
   "nbconvert_exporter": "python",
   "pygments_lexer": "ipython3",
   "version": "3.9.12"
  },
  "orig_nbformat": 4
 },
 "nbformat": 4,
 "nbformat_minor": 2
}
