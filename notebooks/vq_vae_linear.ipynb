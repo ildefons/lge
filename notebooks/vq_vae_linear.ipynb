{
 "cells": [
  {
   "cell_type": "markdown",
   "metadata": {},
   "source": [
    "Choose the device."
   ]
  },
  {
   "cell_type": "code",
   "execution_count": 1,
   "metadata": {},
   "outputs": [],
   "source": [
    "import torch\n",
    "\n",
    "device = \"cuda\" if torch.cuda.is_available() else \"cpu\""
   ]
  },
  {
   "cell_type": "markdown",
   "metadata": {},
   "source": [
    "Create a buffer and feed it."
   ]
  },
  {
   "cell_type": "markdown",
   "metadata": {},
   "source": [
    "Build the model."
   ]
  },
  {
   "cell_type": "code",
   "execution_count": 2,
   "metadata": {},
   "outputs": [
    {
     "name": "stderr",
     "output_type": "stream",
     "text": [
      "/home/qgallouedec/go-explore/env/lib/python3.8/site-packages/torchvision/transforms/functional_pil.py:228: DeprecationWarning: BILINEAR is deprecated and will be removed in Pillow 10 (2023-07-01). Use Resampling.BILINEAR instead.\n",
      "  interpolation: int = Image.BILINEAR,\n",
      "/home/qgallouedec/go-explore/env/lib/python3.8/site-packages/torchvision/transforms/functional_pil.py:295: DeprecationWarning: NEAREST is deprecated and will be removed in Pillow 10 (2023-07-01). Use Resampling.NEAREST or Dither.NONE instead.\n",
      "  interpolation: int = Image.NEAREST,\n",
      "/home/qgallouedec/go-explore/env/lib/python3.8/site-packages/torchvision/transforms/functional_pil.py:328: DeprecationWarning: BICUBIC is deprecated and will be removed in Pillow 10 (2023-07-01). Use Resampling.BICUBIC instead.\n",
      "  interpolation: int = Image.BICUBIC,\n"
     ]
    }
   ],
   "source": [
    "from go_explore.vae import Linear_VQ_VAE\n",
    "\n",
    "vae = Linear_VQ_VAE(16).to(device)"
   ]
  },
  {
   "cell_type": "markdown",
   "metadata": {},
   "source": [
    "## Test the VAE"
   ]
  },
  {
   "cell_type": "markdown",
   "metadata": {},
   "source": [
    "Sample a batch of observations."
   ]
  },
  {
   "cell_type": "code",
   "execution_count": 3,
   "metadata": {},
   "outputs": [
    {
     "data": {
      "text/plain": [
       "tensor([[0.3572, 0.3572, 0.3572, 0.3572, 0.3572, 0.3572, 0.3572, 0.3572, 0.3572,\n",
       "         0.3572, 0.3572, 0.3572, 0.3572, 0.3572, 0.3572, 0.3572],\n",
       "        [0.9891, 0.9891, 0.9891, 0.9891, 0.9891, 0.9891, 0.9891, 0.9891, 0.9891,\n",
       "         0.9891, 0.9891, 0.9891, 0.9891, 0.9891, 0.9891, 0.9891],\n",
       "        [0.2180, 0.2180, 0.2180, 0.2180, 0.2180, 0.2180, 0.2180, 0.2180, 0.2180,\n",
       "         0.2180, 0.2180, 0.2180, 0.2180, 0.2180, 0.2180, 0.2180],\n",
       "        [0.6380, 0.6380, 0.6380, 0.6380, 0.6380, 0.6380, 0.6380, 0.6380, 0.6380,\n",
       "         0.6380, 0.6380, 0.6380, 0.6380, 0.6380, 0.6380, 0.6380],\n",
       "        [0.6300, 0.6300, 0.6300, 0.6300, 0.6300, 0.6300, 0.6300, 0.6300, 0.6300,\n",
       "         0.6300, 0.6300, 0.6300, 0.6300, 0.6300, 0.6300, 0.6300],\n",
       "        [0.9757, 0.9757, 0.9757, 0.9757, 0.9757, 0.9757, 0.9757, 0.9757, 0.9757,\n",
       "         0.9757, 0.9757, 0.9757, 0.9757, 0.9757, 0.9757, 0.9757],\n",
       "        [0.3262, 0.3262, 0.3262, 0.3262, 0.3262, 0.3262, 0.3262, 0.3262, 0.3262,\n",
       "         0.3262, 0.3262, 0.3262, 0.3262, 0.3262, 0.3262, 0.3262],\n",
       "        [0.4578, 0.4578, 0.4578, 0.4578, 0.4578, 0.4578, 0.4578, 0.4578, 0.4578,\n",
       "         0.4578, 0.4578, 0.4578, 0.4578, 0.4578, 0.4578, 0.4578],\n",
       "        [0.3439, 0.3439, 0.3439, 0.3439, 0.3439, 0.3439, 0.3439, 0.3439, 0.3439,\n",
       "         0.3439, 0.3439, 0.3439, 0.3439, 0.3439, 0.3439, 0.3439],\n",
       "        [0.6052, 0.6052, 0.6052, 0.6052, 0.6052, 0.6052, 0.6052, 0.6052, 0.6052,\n",
       "         0.6052, 0.6052, 0.6052, 0.6052, 0.6052, 0.6052, 0.6052]],\n",
       "       device='cuda:0')"
      ]
     },
     "execution_count": 3,
     "metadata": {},
     "output_type": "execute_result"
    }
   ],
   "source": [
    "def sample(batch_size):\n",
    "    batch = torch.ones(batch_size, 16) * torch.rand(batch_size, 1)\n",
    "    return batch.to(device)\n",
    "\n",
    "\n",
    "input = sample(10)\n",
    "input"
   ]
  },
  {
   "cell_type": "markdown",
   "metadata": {},
   "source": [
    "Build the reconstruction."
   ]
  },
  {
   "cell_type": "code",
   "execution_count": 4,
   "metadata": {},
   "outputs": [],
   "source": [
    "recons, vq_loss, perplexity = vae(input)"
   ]
  },
  {
   "cell_type": "markdown",
   "metadata": {},
   "source": [
    "Visualize the result."
   ]
  },
  {
   "cell_type": "code",
   "execution_count": 5,
   "metadata": {},
   "outputs": [
    {
     "data": {
      "text/plain": [
       "(tensor([[0.3572, 0.3572, 0.3572, 0.3572, 0.3572, 0.3572, 0.3572, 0.3572, 0.3572,\n",
       "          0.3572, 0.3572, 0.3572, 0.3572, 0.3572, 0.3572, 0.3572],\n",
       "         [0.9891, 0.9891, 0.9891, 0.9891, 0.9891, 0.9891, 0.9891, 0.9891, 0.9891,\n",
       "          0.9891, 0.9891, 0.9891, 0.9891, 0.9891, 0.9891, 0.9891],\n",
       "         [0.2180, 0.2180, 0.2180, 0.2180, 0.2180, 0.2180, 0.2180, 0.2180, 0.2180,\n",
       "          0.2180, 0.2180, 0.2180, 0.2180, 0.2180, 0.2180, 0.2180],\n",
       "         [0.6380, 0.6380, 0.6380, 0.6380, 0.6380, 0.6380, 0.6380, 0.6380, 0.6380,\n",
       "          0.6380, 0.6380, 0.6380, 0.6380, 0.6380, 0.6380, 0.6380],\n",
       "         [0.6300, 0.6300, 0.6300, 0.6300, 0.6300, 0.6300, 0.6300, 0.6300, 0.6300,\n",
       "          0.6300, 0.6300, 0.6300, 0.6300, 0.6300, 0.6300, 0.6300],\n",
       "         [0.9757, 0.9757, 0.9757, 0.9757, 0.9757, 0.9757, 0.9757, 0.9757, 0.9757,\n",
       "          0.9757, 0.9757, 0.9757, 0.9757, 0.9757, 0.9757, 0.9757],\n",
       "         [0.3262, 0.3262, 0.3262, 0.3262, 0.3262, 0.3262, 0.3262, 0.3262, 0.3262,\n",
       "          0.3262, 0.3262, 0.3262, 0.3262, 0.3262, 0.3262, 0.3262],\n",
       "         [0.4578, 0.4578, 0.4578, 0.4578, 0.4578, 0.4578, 0.4578, 0.4578, 0.4578,\n",
       "          0.4578, 0.4578, 0.4578, 0.4578, 0.4578, 0.4578, 0.4578],\n",
       "         [0.3439, 0.3439, 0.3439, 0.3439, 0.3439, 0.3439, 0.3439, 0.3439, 0.3439,\n",
       "          0.3439, 0.3439, 0.3439, 0.3439, 0.3439, 0.3439, 0.3439],\n",
       "         [0.6052, 0.6052, 0.6052, 0.6052, 0.6052, 0.6052, 0.6052, 0.6052, 0.6052,\n",
       "          0.6052, 0.6052, 0.6052, 0.6052, 0.6052, 0.6052, 0.6052]],\n",
       "        device='cuda:0'),\n",
       " tensor([[ 0.2162,  0.2148, -0.1520,  0.2211, -0.0378,  0.2656, -0.0022, -0.0093,\n",
       "          -0.2128, -0.1689, -0.1308, -0.1614, -0.1115,  0.2131,  0.0412,  0.3614],\n",
       "         [ 0.2113,  0.2038, -0.1614,  0.2182, -0.0297,  0.2463,  0.0062, -0.0096,\n",
       "          -0.2256, -0.1726, -0.1315, -0.1616, -0.1187,  0.2114,  0.0600,  0.3560],\n",
       "         [ 0.2129,  0.2120, -0.1562,  0.2256, -0.0405,  0.2665,  0.0059, -0.0115,\n",
       "          -0.2107, -0.1678, -0.1174, -0.1490, -0.1307,  0.2176,  0.0527,  0.3639],\n",
       "         [ 0.2113,  0.2038, -0.1614,  0.2182, -0.0297,  0.2463,  0.0062, -0.0096,\n",
       "          -0.2256, -0.1726, -0.1315, -0.1616, -0.1187,  0.2114,  0.0600,  0.3560],\n",
       "         [ 0.2113,  0.2038, -0.1614,  0.2182, -0.0297,  0.2463,  0.0062, -0.0096,\n",
       "          -0.2256, -0.1726, -0.1315, -0.1616, -0.1187,  0.2114,  0.0600,  0.3560],\n",
       "         [ 0.2113,  0.2038, -0.1614,  0.2182, -0.0297,  0.2463,  0.0062, -0.0096,\n",
       "          -0.2256, -0.1726, -0.1315, -0.1616, -0.1187,  0.2114,  0.0600,  0.3560],\n",
       "         [ 0.2162,  0.2148, -0.1520,  0.2211, -0.0378,  0.2656, -0.0022, -0.0093,\n",
       "          -0.2128, -0.1689, -0.1308, -0.1614, -0.1115,  0.2131,  0.0412,  0.3614],\n",
       "         [ 0.2157,  0.2141, -0.1528,  0.2209, -0.0373,  0.2641, -0.0016, -0.0094,\n",
       "          -0.2139, -0.1694, -0.1311, -0.1614, -0.1119,  0.2128,  0.0424,  0.3611],\n",
       "         [ 0.2162,  0.2148, -0.1520,  0.2211, -0.0378,  0.2656, -0.0022, -0.0093,\n",
       "          -0.2128, -0.1689, -0.1308, -0.1614, -0.1115,  0.2131,  0.0412,  0.3614],\n",
       "         [ 0.2113,  0.2038, -0.1614,  0.2182, -0.0297,  0.2463,  0.0062, -0.0096,\n",
       "          -0.2256, -0.1726, -0.1315, -0.1616, -0.1187,  0.2114,  0.0600,  0.3560]],\n",
       "        device='cuda:0', grad_fn=<AddmmBackward0>))"
      ]
     },
     "execution_count": 5,
     "metadata": {},
     "output_type": "execute_result"
    }
   ],
   "source": [
    "input, recons"
   ]
  },
  {
   "cell_type": "markdown",
   "metadata": {},
   "source": [
    "## Train the model"
   ]
  },
  {
   "cell_type": "markdown",
   "metadata": {},
   "source": [
    "Create a loss function."
   ]
  },
  {
   "cell_type": "code",
   "execution_count": 6,
   "metadata": {},
   "outputs": [],
   "source": [
    "import torch.nn.functional as F\n",
    "from typing import Tuple\n",
    "from torch import Tensor\n",
    "\n",
    "\n",
    "def loss_func(inputs: Tensor, recons: Tensor, vq_loss: Tensor) -> Tuple[Tensor, Tensor]:\n",
    "    # Reconstruction loss\n",
    "    recons_loss = F.mse_loss(inputs, recons)  # / data_variance\n",
    "\n",
    "    # Total loss\n",
    "    loss = recons_loss + 0.1 * vq_loss\n",
    "\n",
    "    return loss, recons_loss"
   ]
  },
  {
   "cell_type": "markdown",
   "metadata": {},
   "source": [
    "Test the loss function."
   ]
  },
  {
   "cell_type": "code",
   "execution_count": 7,
   "metadata": {},
   "outputs": [
    {
     "data": {
      "text/plain": [
       "(tensor(0.3746, device='cuda:0', grad_fn=<AddBackward0>),\n",
       " tensor(0.3689, device='cuda:0', grad_fn=<MseLossBackward0>))"
      ]
     },
     "execution_count": 7,
     "metadata": {},
     "output_type": "execute_result"
    }
   ],
   "source": [
    "loss_func(input, recons, vq_loss)"
   ]
  },
  {
   "cell_type": "markdown",
   "metadata": {},
   "source": [
    "Create optimizer."
   ]
  },
  {
   "cell_type": "code",
   "execution_count": 8,
   "metadata": {},
   "outputs": [],
   "source": [
    "from torch import optim\n",
    "\n",
    "optimizer = optim.Adam(vae.parameters(), lr=1e-3)"
   ]
  },
  {
   "cell_type": "code",
   "execution_count": 9,
   "metadata": {},
   "outputs": [
    {
     "name": "stdout",
     "output_type": "stream",
     "text": [
      "epoch:     0\tloss: 0.31157\trecons loss: 0.30634\tvq loss: 0.05225\n",
      "epoch:  1000\tloss: 0.02290\trecons loss: 0.00598\tvq loss: 0.16912\n",
      "epoch:  2000\tloss: 0.00676\trecons loss: 0.00318\tvq loss: 0.03580\n",
      "epoch:  3000\tloss: 0.00773\trecons loss: 0.00236\tvq loss: 0.05368\n",
      "epoch:  4000\tloss: 0.00734\trecons loss: 0.00223\tvq loss: 0.05104\n"
     ]
    }
   ],
   "source": [
    "perplexities = []\n",
    "for epoch in range(5000):\n",
    "    # Sample\n",
    "    input = sample(128)\n",
    "\n",
    "    # Compute the output image\n",
    "    vae.train()\n",
    "    recons, vq_loss, perplexity = vae(input)\n",
    "\n",
    "    # Compute the loss\n",
    "    loss, recons_loss = loss_func(input, recons, vq_loss)\n",
    "\n",
    "    # Step the optimizer\n",
    "    optimizer.zero_grad()\n",
    "    loss.backward()\n",
    "    optimizer.step()\n",
    "\n",
    "    perplexities.append(perplexity.item())\n",
    "\n",
    "    if epoch % 1000 == 0:\n",
    "        print(\n",
    "            \"epoch: {:5d}\\tloss: {:.5f}\\trecons loss: {:.5f}\\tvq loss: {:.5f}\".format(\n",
    "                epoch, loss.item(), recons_loss.item(), vq_loss.item()\n",
    "            ),\n",
    "        )\n",
    "        vae.eval()"
   ]
  },
  {
   "cell_type": "code",
   "execution_count": 10,
   "metadata": {},
   "outputs": [
    {
     "data": {
      "text/plain": [
       "tensor([[0.9116, 0.9108, 0.9094, 0.9104, 0.9100, 0.9104, 0.9112, 0.9112, 0.9067,\n",
       "         0.9085, 0.9063, 0.9076, 0.9108, 0.9116, 0.9094, 0.9101],\n",
       "        [0.3115, 0.3156, 0.3156, 0.3154, 0.3112, 0.3140, 0.3214, 0.3107, 0.3179,\n",
       "         0.3139, 0.3172, 0.3300, 0.3177, 0.3111, 0.3159, 0.3167],\n",
       "        [0.1200, 0.1202, 0.1182, 0.1201, 0.1222, 0.1209, 0.1161, 0.1203, 0.1189,\n",
       "         0.1185, 0.1216, 0.1140, 0.1185, 0.1217, 0.1218, 0.1207],\n",
       "        [0.5849, 0.5870, 0.5793, 0.5865, 0.5824, 0.5884, 0.5841, 0.5851, 0.5758,\n",
       "         0.5787, 0.5760, 0.5766, 0.5793, 0.5907, 0.5830, 0.5860],\n",
       "        [0.9116, 0.9108, 0.9094, 0.9104, 0.9100, 0.9104, 0.9112, 0.9112, 0.9067,\n",
       "         0.9085, 0.9063, 0.9076, 0.9108, 0.9116, 0.9094, 0.9101],\n",
       "        [0.3115, 0.3156, 0.3156, 0.3154, 0.3112, 0.3140, 0.3214, 0.3107, 0.3179,\n",
       "         0.3139, 0.3172, 0.3300, 0.3177, 0.3111, 0.3159, 0.3167],\n",
       "        [0.1200, 0.1202, 0.1182, 0.1201, 0.1222, 0.1209, 0.1161, 0.1203, 0.1189,\n",
       "         0.1185, 0.1216, 0.1140, 0.1185, 0.1217, 0.1218, 0.1207],\n",
       "        [0.7426, 0.7386, 0.7474, 0.7407, 0.7453, 0.7389, 0.7407, 0.7439, 0.7512,\n",
       "         0.7499, 0.7529, 0.7458, 0.7424, 0.7377, 0.7444, 0.7388],\n",
       "        [0.9116, 0.9108, 0.9094, 0.9104, 0.9100, 0.9104, 0.9112, 0.9112, 0.9067,\n",
       "         0.9085, 0.9063, 0.9076, 0.9108, 0.9116, 0.9094, 0.9101],\n",
       "        [0.9116, 0.9108, 0.9094, 0.9104, 0.9100, 0.9104, 0.9112, 0.9112, 0.9067,\n",
       "         0.9085, 0.9063, 0.9076, 0.9108, 0.9116, 0.9094, 0.9101]],\n",
       "       device='cuda:0', grad_fn=<AddmmBackward0>)"
      ]
     },
     "execution_count": 10,
     "metadata": {},
     "output_type": "execute_result"
    }
   ],
   "source": [
    "input = sample(10)\n",
    "recons, vq_loss, perplexity = vae(input)\n",
    "F.mse_loss(input, recons)\n",
    "recons"
   ]
  },
  {
   "cell_type": "code",
   "execution_count": 11,
   "metadata": {},
   "outputs": [
    {
     "data": {
      "image/png": "[encoded data removed]",
      "text/plain": [
       "<Figure size 432x288 with 1 Axes>"
      ]
     },
     "metadata": {},
     "output_type": "display_data"
    }
   ],
   "source": [
    "%matplotlib inline\n",
    "import matplotlib.pyplot as plt\n",
    "\n",
    "plt.style.use(\"seaborn-whitegrid\")\n",
    "import numpy as np\n",
    "\n",
    "fig = plt.figure()\n",
    "ax = plt.axes()\n",
    "ax.set_ylim(0, 10)\n",
    "\n",
    "ax.plot(perplexities);"
   ]
  },
  {
   "cell_type": "code",
   "execution_count": 12,
   "metadata": {},
   "outputs": [
    {
     "data": {
      "text/plain": [
       "0.6601027686835504"
      ]
     },
     "execution_count": 12,
     "metadata": {},
     "output_type": "execute_result"
    }
   ],
   "source": [
    "from go_explore.cells import get_param_score\n",
    "\n",
    "input = sample(512)\n",
    "\n",
    "# Compute the output image\n",
    "vae.eval()\n",
    "quantized = vae.get_quantized(input)\n",
    "get_param_score(quantized)"
   ]
  },
  {
   "cell_type": "code",
   "execution_count": 13,
   "metadata": {},
   "outputs": [
    {
     "data": {
      "text/plain": [
       "(tensor([[0.1302, 0.1302, 0.1302, 0.1302, 0.1302, 0.1302, 0.1302, 0.1302, 0.1302,\n",
       "          0.1302, 0.1302, 0.1302, 0.1302, 0.1302, 0.1302, 0.1302],\n",
       "         [0.3819, 0.3819, 0.3819, 0.3819, 0.3819, 0.3819, 0.3819, 0.3819, 0.3819,\n",
       "          0.3819, 0.3819, 0.3819, 0.3819, 0.3819, 0.3819, 0.3819],\n",
       "         [0.5118, 0.5118, 0.5118, 0.5118, 0.5118, 0.5118, 0.5118, 0.5118, 0.5118,\n",
       "          0.5118, 0.5118, 0.5118, 0.5118, 0.5118, 0.5118, 0.5118],\n",
       "         [0.0394, 0.0394, 0.0394, 0.0394, 0.0394, 0.0394, 0.0394, 0.0394, 0.0394,\n",
       "          0.0394, 0.0394, 0.0394, 0.0394, 0.0394, 0.0394, 0.0394],\n",
       "         [0.4181, 0.4181, 0.4181, 0.4181, 0.4181, 0.4181, 0.4181, 0.4181, 0.4181,\n",
       "          0.4181, 0.4181, 0.4181, 0.4181, 0.4181, 0.4181, 0.4181],\n",
       "         [0.3309, 0.3309, 0.3309, 0.3309, 0.3309, 0.3309, 0.3309, 0.3309, 0.3309,\n",
       "          0.3309, 0.3309, 0.3309, 0.3309, 0.3309, 0.3309, 0.3309],\n",
       "         [0.1544, 0.1544, 0.1544, 0.1544, 0.1544, 0.1544, 0.1544, 0.1544, 0.1544,\n",
       "          0.1544, 0.1544, 0.1544, 0.1544, 0.1544, 0.1544, 0.1544],\n",
       "         [0.6122, 0.6122, 0.6122, 0.6122, 0.6122, 0.6122, 0.6122, 0.6122, 0.6122,\n",
       "          0.6122, 0.6122, 0.6122, 0.6122, 0.6122, 0.6122, 0.6122],\n",
       "         [0.3548, 0.3548, 0.3548, 0.3548, 0.3548, 0.3548, 0.3548, 0.3548, 0.3548,\n",
       "          0.3548, 0.3548, 0.3548, 0.3548, 0.3548, 0.3548, 0.3548],\n",
       "         [0.7417, 0.7417, 0.7417, 0.7417, 0.7417, 0.7417, 0.7417, 0.7417, 0.7417,\n",
       "          0.7417, 0.7417, 0.7417, 0.7417, 0.7417, 0.7417, 0.7417]],\n",
       "        device='cuda:0'),\n",
       " tensor([[0.1200, 0.1202, 0.1182, 0.1201, 0.1222, 0.1209, 0.1161, 0.1203, 0.1189,\n",
       "          0.1185, 0.1216, 0.1140, 0.1185, 0.1217, 0.1218, 0.1207],\n",
       "         [0.3115, 0.3156, 0.3156, 0.3154, 0.3112, 0.3140, 0.3214, 0.3107, 0.3179,\n",
       "          0.3139, 0.3172, 0.3300, 0.3177, 0.3111, 0.3159, 0.3167],\n",
       "         [0.4878, 0.4855, 0.4833, 0.4834, 0.4862, 0.4834, 0.4845, 0.4858, 0.4778,\n",
       "          0.4802, 0.4775, 0.4781, 0.4905, 0.4861, 0.4838, 0.4851],\n",
       "         [0.1200, 0.1202, 0.1182, 0.1201, 0.1222, 0.1209, 0.1161, 0.1203, 0.1189,\n",
       "          0.1185, 0.1216, 0.1140, 0.1185, 0.1217, 0.1218, 0.1207],\n",
       "         [0.4014, 0.4105, 0.4060, 0.4123, 0.4010, 0.4124, 0.4157, 0.4033, 0.4118,\n",
       "          0.4072, 0.4120, 0.4255, 0.3997, 0.4087, 0.4096, 0.4112],\n",
       "         [0.3115, 0.3156, 0.3156, 0.3154, 0.3112, 0.3140, 0.3214, 0.3107, 0.3179,\n",
       "          0.3139, 0.3172, 0.3300, 0.3177, 0.3111, 0.3159, 0.3167],\n",
       "         [0.1200, 0.1202, 0.1182, 0.1201, 0.1222, 0.1209, 0.1161, 0.1203, 0.1189,\n",
       "          0.1185, 0.1216, 0.1140, 0.1185, 0.1217, 0.1218, 0.1207],\n",
       "         [0.5849, 0.5870, 0.5793, 0.5865, 0.5824, 0.5884, 0.5841, 0.5851, 0.5758,\n",
       "          0.5787, 0.5760, 0.5766, 0.5793, 0.5907, 0.5830, 0.5860],\n",
       "         [0.3115, 0.3156, 0.3156, 0.3154, 0.3112, 0.3140, 0.3214, 0.3107, 0.3179,\n",
       "          0.3139, 0.3172, 0.3300, 0.3177, 0.3111, 0.3159, 0.3167],\n",
       "         [0.7426, 0.7386, 0.7474, 0.7407, 0.7453, 0.7389, 0.7407, 0.7439, 0.7512,\n",
       "          0.7499, 0.7529, 0.7458, 0.7424, 0.7377, 0.7444, 0.7388]],\n",
       "        device='cuda:0', grad_fn=<AddmmBackward0>))"
      ]
     },
     "execution_count": 13,
     "metadata": {},
     "output_type": "execute_result"
    }
   ],
   "source": [
    "input = sample(10)\n",
    "input, vae(input)[0]"
   ]
  },
  {
   "cell_type": "code",
   "execution_count": 14,
   "metadata": {},
   "outputs": [
    {
     "data": {
      "text/plain": [
       "tensor([[ 1.6518,  1.1861, -1.5594,  1.4129],\n",
       "        [ 0.7040,  0.0131, -0.5563,  0.9841],\n",
       "        [ 0.1792, -0.5676, -0.0130,  0.7006],\n",
       "        [ 1.9939,  1.6095, -1.9215,  1.5676],\n",
       "        [ 0.5673, -0.1560, -0.4117,  0.9223],\n",
       "        [ 0.8960,  0.2507, -0.7595,  1.0710],\n",
       "        [ 1.5606,  1.0733, -1.4629,  1.3716],\n",
       "        [-0.2400, -1.0060,  0.4165,  0.4571],\n",
       "        [ 0.8060,  0.1393, -0.6642,  1.0302],\n",
       "        [-0.7811, -1.5717,  0.9709,  0.1427]], device='cuda:0',\n",
       "       grad_fn=<AddmmBackward0>)"
      ]
     },
     "execution_count": 14,
     "metadata": {},
     "output_type": "execute_result"
    }
   ],
   "source": [
    "vae.encode(input)"
   ]
  }
 ],
 "metadata": {
  "interpreter": {
   "hash": "f48e9823b73d61fb1e9f2e586933b91323c7e489dd89b69b8ad5cbedc4bff826"
  },
  "kernelspec": {
   "display_name": "Python 3.8.10 ('env': venv)",
   "language": "python",
   "name": "python3"
  },
  "language_info": {
   "codemirror_mode": {
    "name": "ipython",
    "version": 3
   },
   "file_extension": ".py",
   "mimetype": "text/x-python",
   "name": "python",
   "nbconvert_exporter": "python",
   "pygments_lexer": "ipython3",
   "version": "3.8.10"
  },
  "orig_nbformat": 4
 },
 "nbformat": 4,
 "nbformat_minor": 2
}
