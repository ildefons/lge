{
 "cells": [
  {
   "cell_type": "markdown",
   "metadata": {},
   "source": [
    "# Categorical Go Explore"
   ]
  },
  {
   "cell_type": "code",
   "execution_count": 2,
   "metadata": {},
   "outputs": [
    {
     "name": "stdout",
     "output_type": "stream",
     "text": [
      "Creating environment from the given name 'PrivateEye-v4'\n",
      "Using cuda device\n",
      "Wrapping the env in a VecTransposeImage.\n"
     ]
    },
    {
     "name": "stderr",
     "output_type": "stream",
     "text": [
      "/home/qgallouedec/go-explore/env/lib/python3.8/site-packages/gym/envs/registration.py:505: UserWarning: \u001b[33mWARN: The environment PrivateEye-v4 is out of date. You should consider upgrading to version `v5` with the environment ID `ALE/PrivateEye-v5`.\u001b[0m\n",
      "  logger.warn(\n",
      "/home/qgallouedec/go-explore/env/lib/python3.8/site-packages/gym/utils/seeding.py:138: DeprecationWarning: \u001b[33mWARN: Function `hash_seed(seed, max_bytes)` is marked as deprecated and will be removed in the future. \u001b[0m\n",
      "  deprecation(\n",
      "/home/qgallouedec/go-explore/env/lib/python3.8/site-packages/gym/utils/seeding.py:175: DeprecationWarning: \u001b[33mWARN: Function `_bigint_from_bytes(bytes)` is marked as deprecated and will be removed in the future. \u001b[0m\n",
      "  deprecation(\n",
      "/home/qgallouedec/go-explore/env/lib/python3.8/site-packages/gym/utils/seeding.py:47: DeprecationWarning: \u001b[33mWARN: Function `rng.randint(low, [high, size, dtype])` is marked as deprecated and will be removed in the future. Please use `rng.integers(low, [high, size, dtype])` instead.\u001b[0m\n",
      "  deprecation(\n"
     ]
    },
    {
     "name": "stdout",
     "output_type": "stream",
     "text": [
      "----------------------------------\n",
      "| rollout/            |          |\n",
      "|    ep_len_mean      | 243      |\n",
      "|    ep_rew_mean      | -232     |\n",
      "|    exploration_rate | 0.538    |\n",
      "|    success_rate     | 1        |\n",
      "| time/               |          |\n",
      "|    episodes         | 4        |\n",
      "|    fps              | 380      |\n",
      "|    time_elapsed     | 2        |\n",
      "|    total_timesteps  | 972      |\n",
      "----------------------------------\n",
      "----------------------------------\n",
      "| rollout/            |          |\n",
      "|    ep_len_mean      | 147      |\n",
      "|    ep_rew_mean      | -141     |\n",
      "|    exploration_rate | 0.44     |\n",
      "|    success_rate     | 1        |\n",
      "| time/               |          |\n",
      "|    episodes         | 8        |\n",
      "|    fps              | 363      |\n",
      "|    time_elapsed     | 3        |\n",
      "|    total_timesteps  | 1178     |\n",
      "----------------------------------\n",
      "----------------------------------\n",
      "| rollout/            |          |\n",
      "|    ep_len_mean      | 427      |\n",
      "|    ep_rew_mean      | -422     |\n",
      "|    exploration_rate | 0.05     |\n",
      "|    success_rate     | 0.917    |\n",
      "| time/               |          |\n",
      "|    episodes         | 12       |\n",
      "|    fps              | 377      |\n",
      "|    time_elapsed     | 13       |\n",
      "|    total_timesteps  | 5122     |\n",
      "| train/              |          |\n",
      "|    learning_rate    | 0.0001   |\n",
      "|    loss             | 0.0785   |\n",
      "|    n_updates        | 30       |\n",
      "----------------------------------\n",
      "----------------------------------\n",
      "| rollout/            |          |\n",
      "|    ep_len_mean      | 443      |\n",
      "|    ep_rew_mean      | -438     |\n",
      "|    exploration_rate | 0.05     |\n",
      "|    success_rate     | 0.938    |\n",
      "| time/               |          |\n",
      "|    episodes         | 16       |\n",
      "|    fps              | 248      |\n",
      "|    time_elapsed     | 28       |\n",
      "|    total_timesteps  | 7085     |\n",
      "| train/              |          |\n",
      "|    learning_rate    | 0.0001   |\n",
      "|    loss             | 0.0226   |\n",
      "|    n_updates        | 521      |\n",
      "----------------------------------\n",
      "----------------------------------\n",
      "| rollout/            |          |\n",
      "|    ep_len_mean      | 372      |\n",
      "|    ep_rew_mean      | -368     |\n",
      "|    exploration_rate | 0.05     |\n",
      "|    success_rate     | 0.95     |\n",
      "| time/               |          |\n",
      "|    episodes         | 20       |\n",
      "|    fps              | 236      |\n",
      "|    time_elapsed     | 31       |\n",
      "|    total_timesteps  | 7442     |\n",
      "| train/              |          |\n",
      "|    learning_rate    | 0.0001   |\n",
      "|    loss             | 0.00193  |\n",
      "|    n_updates        | 610      |\n",
      "----------------------------------\n",
      "----------------------------------\n",
      "| rollout/            |          |\n",
      "|    ep_len_mean      | 362      |\n",
      "|    ep_rew_mean      | -358     |\n",
      "|    exploration_rate | 0.05     |\n",
      "|    success_rate     | 0.958    |\n",
      "| time/               |          |\n",
      "|    episodes         | 24       |\n",
      "|    fps              | 211      |\n",
      "|    time_elapsed     | 41       |\n",
      "|    total_timesteps  | 8689     |\n",
      "| train/              |          |\n",
      "|    learning_rate    | 0.0001   |\n",
      "|    loss             | 0.0152   |\n",
      "|    n_updates        | 922      |\n",
      "----------------------------------\n",
      "----------------------------------\n",
      "| rollout/            |          |\n",
      "|    ep_len_mean      | 584      |\n",
      "|    ep_rew_mean      | -581     |\n",
      "|    exploration_rate | 0.05     |\n",
      "|    success_rate     | 0.893    |\n",
      "| time/               |          |\n",
      "|    episodes         | 28       |\n",
      "|    fps              | 154      |\n",
      "|    time_elapsed     | 105      |\n",
      "|    total_timesteps  | 16359    |\n",
      "| train/              |          |\n",
      "|    learning_rate    | 0.0001   |\n",
      "|    loss             | 0.0118   |\n",
      "|    n_updates        | 2839     |\n",
      "| vae/                |          |\n",
      "|    kl_loss          | 0.0196   |\n",
      "|    recons_loss      | 0.0428   |\n",
      "----------------------------------\n"
     ]
    }
   ],
   "source": [
    "from go_explore.categorical_go_explore import GoExploreCatVAE\n",
    "from stable_baselines3 import DQN\n",
    "\n",
    "go_explore = GoExploreCatVAE(DQN, \"PrivateEye-v4\", model_kwargs=dict(buffer_size=10_000, learning_starts=5_000), verbose=1)\n",
    "go_explore.explore(20_000)\n"
   ]
  }
 ],
 "metadata": {
  "interpreter": {
   "hash": "f48e9823b73d61fb1e9f2e586933b91323c7e489dd89b69b8ad5cbedc4bff826"
  },
  "kernelspec": {
   "display_name": "Python 3.8.10 ('env': venv)",
   "language": "python",
   "name": "python3"
  },
  "language_info": {
   "codemirror_mode": {
    "name": "ipython",
    "version": 3
   },
   "file_extension": ".py",
   "mimetype": "text/x-python",
   "name": "python",
   "nbconvert_exporter": "python",
   "pygments_lexer": "ipython3",
   "version": "3.8.10"
  },
  "orig_nbformat": 4
 },
 "nbformat": 4,
 "nbformat_minor": 2
}
